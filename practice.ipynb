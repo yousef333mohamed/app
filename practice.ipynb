{
  "nbformat": 4,
  "nbformat_minor": 0,
  "metadata": {
    "colab": {
      "provenance": [],
      "authorship_tag": "ABX9TyP5sD5cyYlGJFoDavf98xT9",
      "include_colab_link": true
    },
    "kernelspec": {
      "name": "python3",
      "display_name": "Python 3"
    },
    "language_info": {
      "name": "python"
    }
  },
  "cells": [
    {
      "cell_type": "markdown",
      "metadata": {
        "id": "view-in-github",
        "colab_type": "text"
      },
      "source": [
        "<a href=\"https://colab.research.google.com/github/yousef333mohamed/app/blob/main/practice.ipynb\" target=\"_parent\"><img src=\"https://colab.research.google.com/assets/colab-badge.svg\" alt=\"Open In Colab\"/></a>"
      ]
    },
    {
      "cell_type": "markdown",
      "source": [],
      "metadata": {
        "id": "nd7XK1yUZvFH"
      }
    },
    {
      "cell_type": "markdown",
      "source": [
        "**1**"
      ],
      "metadata": {
        "id": "XArSfrDRZxcR"
      }
    },
    {
      "cell_type": "code",
      "execution_count": 1,
      "metadata": {
        "id": "W3ePWp7nboal"
      },
      "outputs": [],
      "source": [
        "num1=3\n",
        "num2=4\n",
        "num3=5\n"
      ]
    },
    {
      "cell_type": "code",
      "source": [
        "print(num1+num2)\n",
        "print(num3-num1)\n",
        "print(num1*num2+num3)\n",
        "print(num1*(num2+num3))\n",
        "print(num3/num1)\n",
        "print(num3//num1)\n",
        "print(num3%num1)"
      ],
      "metadata": {
        "colab": {
          "base_uri": "https://localhost:8080/"
        },
        "id": "2znqe7JJlmIA",
        "outputId": "94344d0f-9c01-4e90-885b-498c29abb205"
      },
      "execution_count": 6,
      "outputs": [
        {
          "output_type": "stream",
          "name": "stdout",
          "text": [
            "7\n",
            "2\n",
            "17\n",
            "27\n",
            "1.6666666666666667\n",
            "1\n",
            "2\n"
          ]
        }
      ]
    },
    {
      "cell_type": "code",
      "source": [
        "num1=float(3)\n",
        "num2=float(4)\n",
        "num3=float(5)"
      ],
      "metadata": {
        "id": "1DemlHB-mYf5"
      },
      "execution_count": 7,
      "outputs": []
    },
    {
      "cell_type": "code",
      "source": [
        "print(num1+num2)\n",
        "print(num3-num1)\n",
        "print(num1*num2+num3)\n",
        "print(num1*(num2+num3))\n",
        "print(num3/num1)\n",
        "print(num3//num1)\n",
        "print(num3%num1)"
      ],
      "metadata": {
        "colab": {
          "base_uri": "https://localhost:8080/"
        },
        "id": "j7Rlq7-Hmrrn",
        "outputId": "f7fc4f02-91c4-42fa-c3e0-125f11f44d3d"
      },
      "execution_count": 8,
      "outputs": [
        {
          "output_type": "stream",
          "name": "stdout",
          "text": [
            "7.0\n",
            "2.0\n",
            "17.0\n",
            "27.0\n",
            "1.6666666666666667\n",
            "1.0\n",
            "2.0\n"
          ]
        }
      ]
    },
    {
      "cell_type": "markdown",
      "source": [
        "**2**"
      ],
      "metadata": {
        "id": "ePhC5HzAaBDf"
      }
    },
    {
      "cell_type": "code",
      "source": [
        "x=1\n",
        "y=2\n",
        "z=3\n",
        "g=4"
      ],
      "metadata": {
        "id": "xl09J7Limvma"
      },
      "execution_count": 9,
      "outputs": []
    },
    {
      "cell_type": "code",
      "source": [
        "print(x+y*z/g)\n",
        "print(y**z)"
      ],
      "metadata": {
        "colab": {
          "base_uri": "https://localhost:8080/"
        },
        "id": "NuEd3OFinTKo",
        "outputId": "525b9fc5-e115-4f1a-98d3-4ada2305b139"
      },
      "execution_count": 11,
      "outputs": [
        {
          "output_type": "stream",
          "name": "stdout",
          "text": [
            "2.5\n",
            "8\n"
          ]
        }
      ]
    },
    {
      "cell_type": "markdown",
      "source": [
        "**3**"
      ],
      "metadata": {
        "id": "6oIVLweuZq8E"
      }
    },
    {
      "cell_type": "code",
      "source": [
        "str_a=\"python \"\n",
        "str_b=\" is a \"\n",
        "str_c=\" times fun language \"\n",
        "num=1000"
      ],
      "metadata": {
        "id": "R7d7YvYupVOf"
      },
      "execution_count": 12,
      "outputs": []
    },
    {
      "cell_type": "code",
      "source": [
        "str_ab=str_a+str_b+str_c+str(num)\n",
        "print(str_ab)"
      ],
      "metadata": {
        "colab": {
          "base_uri": "https://localhost:8080/"
        },
        "id": "3iIYQj0cndmu",
        "outputId": "25b824f9-a1b6-4d15-b854-15f0b8539b69"
      },
      "execution_count": 14,
      "outputs": [
        {
          "output_type": "stream",
          "name": "stdout",
          "text": [
            "python  is a  times fun language 1000\n"
          ]
        }
      ]
    },
    {
      "cell_type": "code",
      "source": [
        "str_a10=str_a*10\n",
        "str_a10"
      ],
      "metadata": {
        "colab": {
          "base_uri": "https://localhost:8080/",
          "height": 36
        },
        "id": "9v70hSe8p_ai",
        "outputId": "0d446944-8b84-438c-81b0-d21ed56587a4"
      },
      "execution_count": 16,
      "outputs": [
        {
          "output_type": "execute_result",
          "data": {
            "text/plain": [
              "'python python python python python python python python python python '"
            ],
            "application/vnd.google.colaboratory.intrinsic+json": {
              "type": "string"
            }
          },
          "metadata": {},
          "execution_count": 16
        }
      ]
    },
    {
      "cell_type": "markdown",
      "source": [
        "**4**"
      ],
      "metadata": {
        "id": "sBbsqb-ncNuz"
      }
    },
    {
      "cell_type": "code",
      "source": [
        "import math\n",
        "num_1=-5\n",
        "num_2=3.2\n",
        "num_3=5.7\n",
        "num_4=625"
      ],
      "metadata": {
        "id": "rnsJMffPcIZ0"
      },
      "execution_count": 17,
      "outputs": []
    },
    {
      "cell_type": "code",
      "source": [
        "print(abs(num_1))\n",
        "print(round(num_2),round(num_3))\n",
        "print(math.sqrt(num_4))"
      ],
      "metadata": {
        "colab": {
          "base_uri": "https://localhost:8080/"
        },
        "id": "HaiMICh2cIAZ",
        "outputId": "060b901e-14ff-40b4-d9cb-3d3066f8d569"
      },
      "execution_count": 18,
      "outputs": [
        {
          "output_type": "stream",
          "name": "stdout",
          "text": [
            "5\n",
            "3 6\n",
            "25.0\n"
          ]
        }
      ]
    },
    {
      "cell_type": "markdown",
      "source": [
        "**5**"
      ],
      "metadata": {
        "id": "ogv8uJ39dUWv"
      }
    },
    {
      "cell_type": "code",
      "source": [
        "a=float(input(\"enter your number = \"))\n",
        "b=float(input(\"enter your number = \"))\n",
        "result=a*b\n",
        "print(result)"
      ],
      "metadata": {
        "colab": {
          "base_uri": "https://localhost:8080/"
        },
        "id": "g5mWitKfdXtf",
        "outputId": "eeb66207-f4f2-480f-f6a2-b1c58c4e2f74"
      },
      "execution_count": 20,
      "outputs": [
        {
          "output_type": "stream",
          "name": "stdout",
          "text": [
            "enter your number = 4\n",
            "enter your number = 6\n",
            "24.0\n"
          ]
        }
      ]
    },
    {
      "cell_type": "markdown",
      "source": [
        "**Questions** **on** **control** **flow**"
      ],
      "metadata": {
        "id": "osW8dJfveqK6"
      }
    },
    {
      "cell_type": "markdown",
      "source": [
        "**1**"
      ],
      "metadata": {
        "id": "uYlIuTcPeu5p"
      }
    },
    {
      "cell_type": "code",
      "source": [
        "number =int (input(\"enter the number = \"))\n",
        "if number%2==0:\n",
        "  print(\"number='even'\")\n",
        "\n",
        "else:\n",
        "\n",
        "  print(\"number is odd\")\n",
        "\n"
      ],
      "metadata": {
        "colab": {
          "base_uri": "https://localhost:8080/"
        },
        "id": "_I4bk2I_qwdr",
        "outputId": "953d159f-9eee-4fd6-e765-f92abc1c7118"
      },
      "execution_count": 21,
      "outputs": [
        {
          "output_type": "stream",
          "name": "stdout",
          "text": [
            "enter the number = 3\n",
            "number is odd\n"
          ]
        }
      ]
    },
    {
      "cell_type": "markdown",
      "source": [
        "**2**"
      ],
      "metadata": {
        "id": "N7otQH2Xh6vy"
      }
    },
    {
      "cell_type": "code",
      "source": [
        "score = int(input(\"enter your score = '0-100' :\"))\n",
        "if score >=50:\n",
        "  print(\"pass\")\n",
        "else:\n",
        "  print(\"fail\")\n"
      ],
      "metadata": {
        "colab": {
          "base_uri": "https://localhost:8080/"
        },
        "id": "ma6JQO6tsXM7",
        "outputId": "c9be92ca-78b0-4688-c82e-20d7e1a8e096"
      },
      "execution_count": 22,
      "outputs": [
        {
          "output_type": "stream",
          "name": "stdout",
          "text": [
            "enter your score = '0-100' :30\n",
            "fail\n"
          ]
        }
      ]
    },
    {
      "cell_type": "markdown",
      "source": [
        "**3**"
      ],
      "metadata": {
        "id": "drCEadAUh81n"
      }
    },
    {
      "cell_type": "code",
      "source": [
        "number1=int(input(\"enter your number = \"))\n",
        "number2=int(input(\"enter your number = \"))\n",
        "number3=int(input(\"enter your number = \"))\n",
        "if number1>number2 and number3<number1:\n",
        "  print(\"number1 is greater\")\n",
        "elif number2>number1 and number2>number3:\n",
        "  print(\"number2 is greater\")\n",
        "elif number3>number1 and number3>number2:\n",
        "  print(\"number3 is greater\")\n",
        "else:\n",
        "  print(\"sorry\")"
      ],
      "metadata": {
        "colab": {
          "base_uri": "https://localhost:8080/"
        },
        "id": "0odrUi9NwvQ0",
        "outputId": "6b5a91b6-c1e1-4fd7-cca3-27f4199e1516"
      },
      "execution_count": 24,
      "outputs": [
        {
          "output_type": "stream",
          "name": "stdout",
          "text": [
            "enter your number = 2\n",
            "enter your number = 4\n",
            "enter your number = 6\n",
            "number3 is greater\n"
          ]
        }
      ]
    },
    {
      "cell_type": "code",
      "source": [
        "for i in range (1,11):\n",
        "  print (i)"
      ],
      "metadata": {
        "colab": {
          "base_uri": "https://localhost:8080/"
        },
        "id": "dFIcG-gGhgPc",
        "outputId": "2b59a43f-82f0-4b38-c7c1-e4eddfea108d"
      },
      "execution_count": 27,
      "outputs": [
        {
          "output_type": "stream",
          "name": "stdout",
          "text": [
            "1\n",
            "2\n",
            "3\n",
            "4\n",
            "5\n",
            "6\n",
            "7\n",
            "8\n",
            "9\n",
            "10\n"
          ]
        }
      ]
    },
    {
      "cell_type": "code",
      "source": [
        "scoree=float(input(\"enter your score = \"))\n",
        "if scoree>=90 and scoree<=100:\n",
        "  print(\"your grade is A \")\n",
        "elif scoree>=80 and scoree<=89:\n",
        "  print(\"your grade is B\")\n",
        "elif scoree >=70 and scoree<79:\n",
        "  print(\"your grade is C\")\n",
        "elif scoree>=60 and scoree<69:\n",
        "  print(\"your grade is D\")\n",
        "elif scoree<50:\n",
        "  print(\"your grade is F\")\n",
        "else:\n",
        "  print(\"sorry\")"
      ],
      "metadata": {
        "colab": {
          "base_uri": "https://localhost:8080/"
        },
        "id": "BJU8ffjqilNe",
        "outputId": "a3885374-7a5d-4e9c-d8f6-a030403aa860"
      },
      "execution_count": 30,
      "outputs": [
        {
          "output_type": "stream",
          "name": "stdout",
          "text": [
            "enter your score = 23\n",
            "your grade is F\n"
          ]
        }
      ]
    },
    {
      "cell_type": "code",
      "source": [
        "num5= int(input(\"enter your number = \"))\n",
        "for i in range (1,11):\n",
        "  print(num5,\"*\",i,\"=\",num5*i)"
      ],
      "metadata": {
        "colab": {
          "base_uri": "https://localhost:8080/"
        },
        "id": "3tvVQ8mhpY6i",
        "outputId": "83db2bc3-ea65-4090-938a-6d0e34e54fee"
      },
      "execution_count": 31,
      "outputs": [
        {
          "output_type": "stream",
          "name": "stdout",
          "text": [
            "enter your number = 4\n",
            "4 * 1 = 4\n",
            "4 * 2 = 8\n",
            "4 * 3 = 12\n",
            "4 * 4 = 16\n",
            "4 * 5 = 20\n",
            "4 * 6 = 24\n",
            "4 * 7 = 28\n",
            "4 * 8 = 32\n",
            "4 * 9 = 36\n",
            "4 * 10 = 40\n"
          ]
        }
      ]
    },
    {
      "cell_type": "code",
      "source": [
        "total = 0\n",
        "for num in range (1,51):\n",
        "  if num%2==0:\n",
        "    total +=num\n",
        "print(total)"
      ],
      "metadata": {
        "colab": {
          "base_uri": "https://localhost:8080/"
        },
        "id": "ePdt7m1erEzY",
        "outputId": "c483088d-a42f-479d-992e-7963535ebf5c"
      },
      "execution_count": 32,
      "outputs": [
        {
          "output_type": "stream",
          "name": "stdout",
          "text": [
            "650\n"
          ]
        }
      ]
    },
    {
      "cell_type": "code",
      "source": [
        "num6 = int(input(\"Enter a number: \"))\n",
        "factorial = 1\n",
        "i = 1\n",
        "\n",
        "while i <= num6:\n",
        "    factorial *= i\n",
        "    i += 1\n",
        "\n",
        "print(f\"The factorial of {num6} is: {factorial}\")\n"
      ],
      "metadata": {
        "colab": {
          "base_uri": "https://localhost:8080/"
        },
        "id": "hZsHih4GtZN6",
        "outputId": "458e01c0-6e1f-4095-922e-71b868b73722"
      },
      "execution_count": 33,
      "outputs": [
        {
          "output_type": "stream",
          "name": "stdout",
          "text": [
            "Enter a number: 5\n",
            "The factorial of 5 is: 120\n"
          ]
        }
      ]
    },
    {
      "cell_type": "code",
      "source": [],
      "metadata": {
        "id": "yZY1PwNBttbO"
      },
      "execution_count": null,
      "outputs": []
    }
  ]
}