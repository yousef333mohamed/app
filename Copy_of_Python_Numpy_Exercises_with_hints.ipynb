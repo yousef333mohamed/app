{
  "cells": [
    {
      "cell_type": "markdown",
      "metadata": {
        "id": "view-in-github",
        "colab_type": "text"
      },
      "source": [
        "<a href=\"https://colab.research.google.com/github/yousef333mohamed/app/blob/main/Copy_of_Python_Numpy_Exercises_with_hints.ipynb\" target=\"_parent\"><img src=\"https://colab.research.google.com/assets/colab-badge.svg\" alt=\"Open In Colab\"/></a>"
      ]
    },
    {
      "cell_type": "markdown",
      "id": "bf79c78b",
      "metadata": {
        "id": "bf79c78b"
      },
      "source": [
        "# Python NumPy Exercises\n",
        "\n",
        "This is a collection of exercises that have been collected in the numpy mailing list, on stack overflow\n",
        "and in the numpy documentation. The goal of this collection is to offer a quick reference for both old\n",
        "and new users but also to provide a set of exercises for those who teach."
      ]
    },
    {
      "cell_type": "markdown",
      "id": "017db353",
      "metadata": {
        "id": "017db353"
      },
      "source": [
        "#### 1. Import the numpy package under the name `np` and print the numpy version and the configuration (★☆☆)\n",
        "\n",
        "`Hint: import … as` and `np.__version__, np.show_config)`"
      ]
    },
    {
      "cell_type": "code",
      "execution_count": 1,
      "id": "e28779fe",
      "metadata": {
        "collapsed": true,
        "id": "e28779fe",
        "outputId": "d513f4e8-ca32-4242-a0af-eb8dcd48556f",
        "colab": {
          "base_uri": "https://localhost:8080/"
        }
      },
      "outputs": [
        {
          "output_type": "stream",
          "name": "stdout",
          "text": [
            "Build Dependencies:\n",
            "  blas:\n",
            "    detection method: pkgconfig\n",
            "    found: true\n",
            "    include directory: /opt/_internal/cpython-3.11.8/lib/python3.11/site-packages/scipy_openblas64/include\n",
            "    lib directory: /opt/_internal/cpython-3.11.8/lib/python3.11/site-packages/scipy_openblas64/lib\n",
            "    name: scipy-openblas\n",
            "    openblas configuration: OpenBLAS 0.3.27  USE64BITINT DYNAMIC_ARCH NO_AFFINITY\n",
            "      Zen MAX_THREADS=64\n",
            "    pc file directory: /project/.openblas\n",
            "    version: 0.3.27\n",
            "  lapack:\n",
            "    detection method: pkgconfig\n",
            "    found: true\n",
            "    include directory: /opt/_internal/cpython-3.11.8/lib/python3.11/site-packages/scipy_openblas64/include\n",
            "    lib directory: /opt/_internal/cpython-3.11.8/lib/python3.11/site-packages/scipy_openblas64/lib\n",
            "    name: scipy-openblas\n",
            "    openblas configuration: OpenBLAS 0.3.27  USE64BITINT DYNAMIC_ARCH NO_AFFINITY\n",
            "      Zen MAX_THREADS=64\n",
            "    pc file directory: /project/.openblas\n",
            "    version: 0.3.27\n",
            "Compilers:\n",
            "  c:\n",
            "    commands: cc\n",
            "    linker: ld.bfd\n",
            "    name: gcc\n",
            "    version: 10.2.1\n",
            "  c++:\n",
            "    commands: c++\n",
            "    linker: ld.bfd\n",
            "    name: gcc\n",
            "    version: 10.2.1\n",
            "  cython:\n",
            "    commands: cython\n",
            "    linker: cython\n",
            "    name: cython\n",
            "    version: 3.0.11\n",
            "Machine Information:\n",
            "  build:\n",
            "    cpu: x86_64\n",
            "    endian: little\n",
            "    family: x86_64\n",
            "    system: linux\n",
            "  host:\n",
            "    cpu: x86_64\n",
            "    endian: little\n",
            "    family: x86_64\n",
            "    system: linux\n",
            "Python Information:\n",
            "  path: /tmp/build-env-zm_4loqi/bin/python\n",
            "  version: '3.11'\n",
            "SIMD Extensions:\n",
            "  baseline:\n",
            "  - SSE\n",
            "  - SSE2\n",
            "  - SSE3\n",
            "  found:\n",
            "  - SSSE3\n",
            "  - SSE41\n",
            "  - POPCNT\n",
            "  - SSE42\n",
            "  - AVX\n",
            "  - F16C\n",
            "  - FMA3\n",
            "  - AVX2\n",
            "  not found:\n",
            "  - AVX512F\n",
            "  - AVX512CD\n",
            "  - AVX512_KNL\n",
            "  - AVX512_KNM\n",
            "  - AVX512_SKX\n",
            "  - AVX512_CLX\n",
            "  - AVX512_CNL\n",
            "  - AVX512_ICL\n",
            "\n"
          ]
        }
      ],
      "source": [
        "import numpy as np\n",
        "np.show_config()\n"
      ]
    },
    {
      "cell_type": "markdown",
      "id": "46950f4f",
      "metadata": {
        "id": "46950f4f"
      },
      "source": [
        "*italicized text*#### 2. Convert a list of numeric value into a one-dimensional NumPy array (★☆☆)\n",
        "`💡 hint: numpy.array`"
      ]
    },
    {
      "cell_type": "code",
      "execution_count": 2,
      "id": "9b0e875f",
      "metadata": {
        "id": "9b0e875f",
        "outputId": "c8eba138-bee4-4d40-cdf2-0d9f57366809",
        "colab": {
          "base_uri": "https://localhost:8080/"
        }
      },
      "outputs": [
        {
          "output_type": "stream",
          "name": "stdout",
          "text": [
            "[1 2 3 4 5]\n",
            "Type: <class 'numpy.ndarray'>\n"
          ]
        }
      ],
      "source": [
        "import numpy as np\n",
        "my_list = [1, 2, 3, 4, 5]\n",
        "\n",
        "arr = np.array(my_list)\n",
        "\n",
        "print(arr)\n",
        "print(\"Type:\", type(arr))\n"
      ]
    },
    {
      "cell_type": "markdown",
      "id": "e3c20b3d",
      "metadata": {
        "id": "e3c20b3d"
      },
      "source": [
        "#### 3. Create a null vector of size 9 (★☆☆)\n",
        "`💡 hint: np.zeros`"
      ]
    },
    {
      "cell_type": "code",
      "execution_count": 3,
      "id": "96d0b63e",
      "metadata": {
        "id": "96d0b63e",
        "outputId": "3064f2db-5ba8-4815-996c-ac6f31ea49b5",
        "colab": {
          "base_uri": "https://localhost:8080/"
        }
      },
      "outputs": [
        {
          "output_type": "stream",
          "name": "stdout",
          "text": [
            "[0. 0. 0. 0. 0. 0. 0. 0. 0.]\n"
          ]
        }
      ],
      "source": [
        "import numpy as np\n",
        "\n",
        "# Create a null vector (all zeros) of size 9\n",
        "null_vector = np.zeros(9)\n",
        "\n",
        "print(null_vector)\n"
      ]
    },
    {
      "cell_type": "markdown",
      "id": "b15a879f",
      "metadata": {
        "id": "b15a879f"
      },
      "source": [
        "bold text#### 4. How to find the memory size of any array (★☆☆)\n",
        "`💡 hint: size, itemsize`"
      ]
    },
    {
      "cell_type": "code",
      "execution_count": 4,
      "id": "32f9025c",
      "metadata": {
        "id": "32f9025c",
        "outputId": "4d0ded6a-c9f7-44b7-907e-d40c1e95dd77",
        "colab": {
          "base_uri": "https://localhost:8080/"
        }
      },
      "outputs": [
        {
          "output_type": "stream",
          "name": "stdout",
          "text": [
            "Memory size of array: 40 bytes\n"
          ]
        }
      ],
      "source": [
        "import numpy as np\n",
        "\n",
        "# Example array\n",
        "arr = np.array([1, 2, 3, 4, 5])\n",
        "\n",
        "# Memory size in bytes\n",
        "memory_size = arr.size * arr.itemsize\n",
        "\n",
        "print(\"Memory size of array:\", memory_size, \"bytes\")\n"
      ]
    },
    {
      "cell_type": "markdown",
      "id": "0a708990",
      "metadata": {
        "id": "0a708990"
      },
      "source": [
        "# **bold text**#### 5. How to get the documentation of the numpy add function from the command line? (★☆☆)\n",
        "`💡hint: np.info`"
      ]
    },
    {
      "cell_type": "code",
      "execution_count": 5,
      "id": "d254eea5",
      "metadata": {
        "id": "d254eea5",
        "outputId": "e2fc9a70-3c9d-430f-a692-df09dacdbc7c",
        "colab": {
          "base_uri": "https://localhost:8080/"
        }
      },
      "outputs": [
        {
          "output_type": "stream",
          "name": "stdout",
          "text": [
            "add(x1, x2, /, out=None, *, where=True, casting='same_kind', order='K', dtype=None, subok=True[, signature])\n",
            "\n",
            "Add arguments element-wise.\n",
            "\n",
            "Parameters\n",
            "----------\n",
            "x1, x2 : array_like\n",
            "    The arrays to be added.\n",
            "    If ``x1.shape != x2.shape``, they must be broadcastable to a common\n",
            "    shape (which becomes the shape of the output).\n",
            "out : ndarray, None, or tuple of ndarray and None, optional\n",
            "    A location into which the result is stored. If provided, it must have\n",
            "    a shape that the inputs broadcast to. If not provided or None,\n",
            "    a freshly-allocated array is returned. A tuple (possible only as a\n",
            "    keyword argument) must have length equal to the number of outputs.\n",
            "where : array_like, optional\n",
            "    This condition is broadcast over the input. At locations where the\n",
            "    condition is True, the `out` array will be set to the ufunc result.\n",
            "    Elsewhere, the `out` array will retain its original value.\n",
            "    Note that if an uninitialized `out` array is created via the default\n",
            "    ``out=None``, locations within it where the condition is False will\n",
            "    remain uninitialized.\n",
            "**kwargs\n",
            "    For other keyword-only arguments, see the\n",
            "    :ref:`ufunc docs <ufuncs.kwargs>`.\n",
            "\n",
            "Returns\n",
            "-------\n",
            "add : ndarray or scalar\n",
            "    The sum of `x1` and `x2`, element-wise.\n",
            "    This is a scalar if both `x1` and `x2` are scalars.\n",
            "\n",
            "Notes\n",
            "-----\n",
            "Equivalent to `x1` + `x2` in terms of array broadcasting.\n",
            "\n",
            "Examples\n",
            "--------\n",
            ">>> np.add(1.0, 4.0)\n",
            "5.0\n",
            ">>> x1 = np.arange(9.0).reshape((3, 3))\n",
            ">>> x2 = np.arange(3.0)\n",
            ">>> np.add(x1, x2)\n",
            "array([[  0.,   2.,   4.],\n",
            "       [  3.,   5.,   7.],\n",
            "       [  6.,   8.,  10.]])\n",
            "\n",
            "The ``+`` operator can be used as a shorthand for ``np.add`` on ndarrays.\n",
            "\n",
            ">>> x1 = np.arange(9.0).reshape((3, 3))\n",
            ">>> x2 = np.arange(3.0)\n",
            ">>> x1 + x2\n",
            "array([[ 0.,  2.,  4.],\n",
            "       [ 3.,  5.,  7.],\n",
            "       [ 6.,  8., 10.]])\n"
          ]
        }
      ],
      "source": [
        "import numpy as np\n",
        "\n",
        "# Get documentation for numpy.add\n",
        "np.info(np.add)\n"
      ]
    },
    {
      "cell_type": "markdown",
      "id": "0b16cd77",
      "metadata": {
        "id": "0b16cd77"
      },
      "source": [
        "# #### 6. Create a null vector of size 12 but the sixth value which is 1 (★☆☆)\n",
        "`💡hint: array[12]`"
      ]
    },
    {
      "cell_type": "code",
      "execution_count": 6,
      "id": "05223560",
      "metadata": {
        "id": "05223560",
        "outputId": "8bae485c-e898-441d-f3c1-95d7cd1b9f11",
        "colab": {
          "base_uri": "https://localhost:8080/"
        }
      },
      "outputs": [
        {
          "output_type": "stream",
          "name": "stdout",
          "text": [
            "[0. 0. 0. 0. 0. 1. 0. 0. 0. 0. 0. 0.]\n"
          ]
        }
      ],
      "source": [
        "import numpy as np\n",
        "\n",
        "# Create a null vector of size 12\n",
        "arr = np.zeros(12)\n",
        "\n",
        "# Set the sixth value to 1\n",
        "arr[5] = 1   # Index 5 because indexing starts at 0\n",
        "\n",
        "print(arr)\n",
        "\n"
      ]
    },
    {
      "cell_type": "markdown",
      "id": "782d4c77",
      "metadata": {
        "id": "782d4c77"
      },
      "source": [
        "# #### 7. Create a vector with values ranging from 20 to 59 (★☆☆)\n",
        "`💡hint: arange`"
      ]
    },
    {
      "cell_type": "code",
      "execution_count": 7,
      "id": "7250d114",
      "metadata": {
        "id": "7250d114",
        "outputId": "715fe267-9095-4bfb-918e-a5224597564f",
        "colab": {
          "base_uri": "https://localhost:8080/"
        }
      },
      "outputs": [
        {
          "output_type": "stream",
          "name": "stdout",
          "text": [
            "[20 21 22 23 24 25 26 27 28 29 30 31 32 33 34 35 36 37 38 39 40 41 42 43\n",
            " 44 45 46 47 48 49 50 51 52 53 54 55 56 57 58 59]\n"
          ]
        }
      ],
      "source": [
        "import numpy as np\n",
        "\n",
        "# Create vector from 20 to 59\n",
        "arr = np.arange(20, 60)\n",
        "\n",
        "print(arr)\n",
        "\n"
      ]
    },
    {
      "cell_type": "markdown",
      "id": "48d48f01",
      "metadata": {
        "id": "48d48f01"
      },
      "source": [
        "#\n",
        "# `💡hint: array[::-**italicized text**#### 8. Reverse a vector (first element becomes last) (★☆☆)1]`"
      ]
    },
    {
      "cell_type": "code",
      "execution_count": 8,
      "id": "fb702ae0",
      "metadata": {
        "id": "fb702ae0",
        "outputId": "50a6b6bd-33f9-4a05-86ba-8e5b994d995c",
        "colab": {
          "base_uri": "https://localhost:8080/"
        }
      },
      "outputs": [
        {
          "output_type": "stream",
          "name": "stdout",
          "text": [
            "[5 4 3 2 1]\n"
          ]
        }
      ],
      "source": [
        "import numpy as np\n",
        "\n",
        "# Example vector\n",
        "arr = np.arange(1, 6)  # [1 2 3 4 5]\n",
        "\n",
        "# Reverse it\n",
        "reversed_arr = arr[::-1]\n",
        "\n",
        "print(reversed_arr)\n"
      ]
    },
    {
      "cell_type": "markdown",
      "id": "4fa39382",
      "metadata": {
        "id": "4fa39382"
      },
      "source": [
        "# bold text#### 9. Create a 3x3 matrix with values ranging from 12 to 20 (★☆☆)\n",
        "`💡hint: reshape`"
      ]
    },
    {
      "cell_type": "code",
      "execution_count": 9,
      "id": "97e6be92",
      "metadata": {
        "id": "97e6be92",
        "outputId": "e8905512-a102-483e-af60-43f7ca9f48fe",
        "colab": {
          "base_uri": "https://localhost:8080/"
        }
      },
      "outputs": [
        {
          "output_type": "stream",
          "name": "stdout",
          "text": [
            "[[12 13 14]\n",
            " [15 16 17]\n",
            " [18 19 20]]\n"
          ]
        }
      ],
      "source": [
        "import numpy as np\n",
        "\n",
        "# Create values from 12 to 20 (inclusive)\n",
        "arr = np.arange(12, 21).reshape(3, 3)\n",
        "\n",
        "print(arr)\n"
      ]
    },
    {
      "cell_type": "markdown",
      "id": "da64551a",
      "metadata": {
        "id": "da64551a"
      },
      "source": [
        "# **bold text**#### 10. Find indices of non-zero elements from [3,7,0,0,9,0] (★☆☆)\n",
        "`💡hint: np.nonzero`\n",
        "\n",
        "> Add blockquote\n",
        "\n",
        "# > Add blockquote\n",
        "\n",
        "\n",
        "\n"
      ]
    },
    {
      "cell_type": "code",
      "execution_count": 10,
      "id": "322b2b68",
      "metadata": {
        "id": "322b2b68",
        "outputId": "3e9179b2-3a51-4eac-ef7d-3f2de94d2e52",
        "colab": {
          "base_uri": "https://localhost:8080/"
        }
      },
      "outputs": [
        {
          "output_type": "stream",
          "name": "stdout",
          "text": [
            "(array([0, 1, 4]),)\n"
          ]
        }
      ],
      "source": [
        "import numpy as np\n",
        "\n",
        "# المصفوفة المعطاة\n",
        "arr = np.array([3, 7, 0, 0, 9, 0])\n",
        "\n",
        "# إيجاد أماكن (إندكسات) العناصر الغير صفرية\n",
        "indices = np.nonzero(arr)\n",
        "\n",
        "print(indices)\n"
      ]
    },
    {
      "cell_type": "markdown",
      "id": "f89d9c9e",
      "metadata": {
        "id": "f89d9c9e"
      },
      "source": [
        "#### 11. Create a 4x4 identity matrix (★☆☆)\n",
        "`💡hint: np.eye`"
      ]
    },
    {
      "cell_type": "code",
      "execution_count": 11,
      "id": "5717e1c1",
      "metadata": {
        "id": "5717e1c1",
        "outputId": "3bfa5952-44fa-4439-f6f9-df9d1d1cd14a",
        "colab": {
          "base_uri": "https://localhost:8080/"
        }
      },
      "outputs": [
        {
          "output_type": "stream",
          "name": "stdout",
          "text": [
            "[[1. 0. 0. 0.]\n",
            " [0. 1. 0. 0.]\n",
            " [0. 0. 1. 0.]\n",
            " [0. 0. 0. 1.]]\n"
          ]
        }
      ],
      "source": [
        "import numpy as np\n",
        "\n",
        "# إنشاء مصفوفة هوية 4x4\n",
        "identity_matrix = np.eye(4)\n",
        "\n",
        "print(identity_matrix)\n"
      ]
    },
    {
      "cell_type": "markdown",
      "id": "7e44c6fa",
      "metadata": {
        "id": "7e44c6fa"
      },
      "source": [
        "# #### 12. Create a 2x2x2 array with random values (★☆☆)\n",
        "`💡hint: np.random.random`"
      ]
    },
    {
      "cell_type": "code",
      "execution_count": 12,
      "id": "c8fd52e1",
      "metadata": {
        "id": "c8fd52e1",
        "outputId": "b0f4837c-8248-4c18-9558-3d57703cea4c",
        "colab": {
          "base_uri": "https://localhost:8080/"
        }
      },
      "outputs": [
        {
          "output_type": "stream",
          "name": "stdout",
          "text": [
            "[[[0.86088946 0.90171523]\n",
            "  [0.08131207 0.35000972]]\n",
            "\n",
            " [[0.80706064 0.44470133]\n",
            "  [0.37983069 0.49628196]]]\n"
          ]
        }
      ],
      "source": [
        "import numpy as np\n",
        "\n",
        "# إنشاء مصفوفة أبعادها 2x2x2 بقيم عشوائية بين 0 و 1\n",
        "arr = np.random.random((2, 2, 2))\n",
        "\n",
        "print(arr)\n"
      ]
    },
    {
      "cell_type": "markdown",
      "id": "13c5928c",
      "metadata": {
        "id": "13c5928c"
      },
      "source": [
        "# italicized text#### 13. Create a 9x9 array with random values and find the minimum and maximum values (★☆☆)\n",
        "`💡hint: min, max`"
      ]
    },
    {
      "cell_type": "code",
      "execution_count": 13,
      "id": "0ede4d26",
      "metadata": {
        "id": "0ede4d26",
        "outputId": "c8219273-7acb-48a2-de07-a95ab9a5b63f",
        "colab": {
          "base_uri": "https://localhost:8080/"
        }
      },
      "outputs": [
        {
          "output_type": "stream",
          "name": "stdout",
          "text": [
            "المصفوفة:\n",
            " [[0.01234567 0.93069384 0.98716091 0.91736785 0.58978809 0.58594979\n",
            "  0.65730702 0.1783127  0.15968458]\n",
            " [0.94160899 0.14457541 0.21219554 0.17077741 0.778493   0.42981306\n",
            "  0.401931   0.86701587 0.28056718]\n",
            " [0.52312284 0.437106   0.86925775 0.84114012 0.83285809 0.47449752\n",
            "  0.37167914 0.42920275 0.42040377]\n",
            " [0.18890307 0.38031003 0.14212033 0.51319066 0.78943389 0.24263425\n",
            "  0.45535154 0.68724219 0.55029507]\n",
            " [0.49410085 0.77790163 0.57203898 0.56107121 0.52487644 0.04660282\n",
            "  0.80529129 0.90082547 0.5454336 ]\n",
            " [0.40922894 0.5707475  0.20779432 0.98556758 0.44424864 0.05788441\n",
            "  0.14143152 0.61150529 0.58516553]\n",
            " [0.63567113 0.84168759 0.68210808 0.68652829 0.1041372  0.18384995\n",
            "  0.18422306 0.62721702 0.46666086]\n",
            " [0.42785383 0.04546988 0.80964314 0.4138555  0.03231653 0.43783832\n",
            "  0.37280092 0.77170043 0.46707038]\n",
            " [0.50313867 0.44016545 0.75152214 0.40117675 0.76203756 0.93671488\n",
            "  0.83340612 0.845619   0.76343348]]\n",
            "أقل قيمة: 0.01234567330473657\n",
            "أكبر قيمة: 0.9871609115763106\n"
          ]
        }
      ],
      "source": [
        "import numpy as np\n",
        "\n",
        "# إنشاء مصفوفة 9x9 بقيم عشوائية بين 0 و 1\n",
        "arr = np.random.random((9, 9))\n",
        "\n",
        "# إيجاد أقل قيمة\n",
        "min_value = arr.min()\n",
        "\n",
        "# إيجاد أكبر قيمة\n",
        "max_value = arr.max()\n",
        "\n",
        "print(\"المصفوفة:\\n\", arr)\n",
        "print(\"أقل قيمة:\", min_value)\n",
        "print(\"أكبر قيمة:\", max_value)\n"
      ]
    },
    {
      "cell_type": "markdown",
      "id": "3fa2e461",
      "metadata": {
        "id": "3fa2e461"
      },
      "source": [
        "\n",
        "\n",
        "```\n",
        "## This is formatted as code\n",
        "```\n",
        "\n",
        "#### 14. Create a random vector of size 20 and find the mean value (★☆☆)\n",
        "`💡hint: mean`"
      ]
    },
    {
      "cell_type": "code",
      "execution_count": 14,
      "id": "c0048e59",
      "metadata": {
        "id": "c0048e59",
        "outputId": "94b0a7d8-0a53-4e49-c08d-47774dc44d98",
        "colab": {
          "base_uri": "https://localhost:8080/"
        }
      },
      "outputs": [
        {
          "output_type": "stream",
          "name": "stdout",
          "text": [
            "المتجه: [0.38834556 0.87692689 0.98090066 0.05452664 0.26436129 0.85355463\n",
            " 0.42587876 0.57980073 0.71374615 0.2935262  0.93938507 0.30493194\n",
            " 0.17756333 0.4456267  0.24131065 0.23209995 0.54451575 0.51881212\n",
            " 0.76777407 0.80359808]\n",
            "المتوسط: 0.520359258015675\n"
          ]
        }
      ],
      "source": [
        "import numpy as np\n",
        "\n",
        "# إنشاء متجه عشوائي حجمه 20\n",
        "arr = np.random.random(20)\n",
        "\n",
        "# حساب المتوسط\n",
        "mean_value = arr.mean()\n",
        "\n",
        "print(\"المتجه:\", arr)\n",
        "print(\"المتوسط:\", mean_value)\n"
      ]
    },
    {
      "cell_type": "markdown",
      "id": "73f7a549",
      "metadata": {
        "id": "73f7a549"
      },
      "source": [
        "#### 15. Create a 2d array with 1 on the border and 0 inside (★☆☆)\n",
        "`💡hint: array[1:-1, 1:-1]`"
      ]
    },
    {
      "cell_type": "code",
      "execution_count": 15,
      "id": "351ff928",
      "metadata": {
        "id": "351ff928",
        "outputId": "5a54a4a9-551b-45a0-ee7d-10008a6d7688",
        "colab": {
          "base_uri": "https://localhost:8080/"
        }
      },
      "outputs": [
        {
          "output_type": "stream",
          "name": "stdout",
          "text": [
            "[[1. 1. 1. 1. 1.]\n",
            " [1. 0. 0. 0. 1.]\n",
            " [1. 0. 0. 0. 1.]\n",
            " [1. 0. 0. 0. 1.]\n",
            " [1. 1. 1. 1. 1.]]\n"
          ]
        }
      ],
      "source": [
        "import numpy as np\n",
        "\n",
        "# إنشاء مصفوفة 2D أبعادها 5x5 كلها أصفار\n",
        "arr = np.zeros((5, 5))\n",
        "\n",
        "# جعل الحدود قيمها 1\n",
        "arr[0, :] = 1        # الصف الأول\n",
        "arr[-1, :] = 1       # الصف الأخير\n",
        "arr[:, 0] = 1        # العمود الأول\n",
        "arr[:, -1] = 1       # العمود الأخير\n",
        "\n",
        "print(arr)\n"
      ]
    },
    {
      "cell_type": "markdown",
      "id": "6d0c506f",
      "metadata": {
        "id": "6d0c506f"
      },
      "source": [
        "#### 16. How to add a border (filled with 0's) around an existing array? (★☆☆)\n",
        "`💡hint: np.pad`"
      ]
    },
    {
      "cell_type": "code",
      "execution_count": 16,
      "id": "c1cc1143",
      "metadata": {
        "id": "c1cc1143",
        "outputId": "8ec4c5d0-6654-4c0b-bd99-6b071adf1871",
        "colab": {
          "base_uri": "https://localhost:8080/"
        }
      },
      "outputs": [
        {
          "output_type": "stream",
          "name": "stdout",
          "text": [
            "[[0. 0. 0. 0. 0.]\n",
            " [0. 1. 1. 1. 0.]\n",
            " [0. 1. 1. 1. 0.]\n",
            " [0. 1. 1. 1. 0.]\n",
            " [0. 0. 0. 0. 0.]]\n"
          ]
        }
      ],
      "source": [
        "\n",
        "import numpy as np\n",
        "\n",
        "# مصفوفة أصلية\n",
        "arr = np.ones((3, 3))\n",
        "\n",
        "# إضافة حدود أصفار حول المصفوفة\n",
        "arr_with_border = np.pad(arr, pad_width=1, mode='constant', constant_values=0)\n",
        "\n",
        "print(arr_with_border)\n"
      ]
    },
    {
      "cell_type": "markdown",
      "id": "d6ad1a9f",
      "metadata": {
        "id": "d6ad1a9f"
      },
      "source": [
        "# **bold text**#### 17. What is the result of the following expression? (★☆☆)\n",
        "```python\n",
        "0 * np.nan\n",
        "np.nan == np.nan\n",
        "np.inf > np.nan\n",
        "np.nan - np.nan\n",
        "np.nan in set([np.nan])\n",
        "0.7 == 7 * 0.1\n",
        "```\n",
        "`💡hint: NaN = not a number, inf = infinity`"
      ]
    },
    {
      "cell_type": "code",
      "execution_count": 16,
      "id": "7ba3c441",
      "metadata": {
        "id": "7ba3c441"
      },
      "outputs": [],
      "source": []
    },
    {
      "cell_type": "markdown",
      "id": "e3a7ba7f",
      "metadata": {
        "id": "e3a7ba7f"
      },
      "source": [
        "#### 18. Create a 6x6 matrix with values 1,2,3,4 just below the diagonal (★☆☆)\n",
        "`💡hint: np.diag`"
      ]
    },
    {
      "cell_type": "code",
      "execution_count": 17,
      "id": "b874734e",
      "metadata": {
        "id": "b874734e",
        "outputId": "6f3564fc-df2d-4a94-be80-8ae978b3a4b3",
        "colab": {
          "base_uri": "https://localhost:8080/"
        }
      },
      "outputs": [
        {
          "output_type": "stream",
          "name": "stdout",
          "text": [
            "[[0 0 0 0 0]\n",
            " [1 0 0 0 0]\n",
            " [0 2 0 0 0]\n",
            " [0 0 3 0 0]\n",
            " [0 0 0 4 0]]\n"
          ]
        }
      ],
      "source": [
        "import numpy as np\n",
        "\n",
        "arr = np.diag(1 + np.arange(4), k=-1)\n",
        "\n",
        "print(arr)\n"
      ]
    },
    {
      "cell_type": "markdown",
      "id": "6d17ab5d",
      "metadata": {
        "id": "6d17ab5d"
      },
      "source": [
        "\n",
        "\n",
        "```\n",
        "# This is formatted as code\n",
        "```\n",
        "\n",
        "#### 19. Create a 6x6 matrix and fill it with a checkerboard pattern (★☆☆)\n",
        "`💡hint: array[::2]`"
      ]
    },
    {
      "cell_type": "code",
      "execution_count": 18,
      "id": "4c4e2c5e",
      "metadata": {
        "id": "4c4e2c5e",
        "outputId": "6405bd22-e25e-4093-ccde-6d1492a77052",
        "colab": {
          "base_uri": "https://localhost:8080/"
        }
      },
      "outputs": [
        {
          "output_type": "stream",
          "name": "stdout",
          "text": [
            "[[0 1 0 1 0 1]\n",
            " [1 0 1 0 1 0]\n",
            " [0 1 0 1 0 1]\n",
            " [1 0 1 0 1 0]\n",
            " [0 1 0 1 0 1]\n",
            " [1 0 1 0 1 0]]\n"
          ]
        }
      ],
      "source": [
        "import numpy as np\n",
        "\n",
        "# إنشاء مصفوفة 6x6 كلها أصفار\n",
        "arr = np.zeros((6, 6), dtype=int)\n",
        "\n",
        "# جعل نمط الشطرنج\n",
        "arr[::2, 1::2] = 1  # الصفوف الزوجية - الأعمدة الفردية\n",
        "arr[1::2, ::2] = 1  # الصفوف الفردية - الأعمدة الزوجية\n",
        "\n",
        "print(arr)\n"
      ]
    },
    {
      "cell_type": "markdown",
      "id": "8837119b",
      "metadata": {
        "id": "8837119b"
      },
      "source": [
        "#### 20. Consider a (8,9,10) shape array, what is the index (x,y,z) of the 100th element? (★☆☆)\n",
        "`💡hint: np.unravel_index`"
      ]
    },
    {
      "cell_type": "code",
      "execution_count": 19,
      "id": "2b05c544",
      "metadata": {
        "id": "2b05c544",
        "outputId": "bc502616-a716-4f0c-cd99-61302abcb5ed",
        "colab": {
          "base_uri": "https://localhost:8080/"
        }
      },
      "outputs": [
        {
          "output_type": "stream",
          "name": "stdout",
          "text": [
            "(np.int64(1), np.int64(1), np.int64(0))\n"
          ]
        }
      ],
      "source": [
        "import numpy as np\n",
        "\n",
        "# إيجاد إحداثيات العنصر رقم 100 في مصفوفة أبعادها (8, 9, 10)\n",
        "index = np.unravel_index(100, (8, 9, 10))\n",
        "\n",
        "print(index)\n"
      ]
    },
    {
      "cell_type": "markdown",
      "id": "ec788c9f",
      "metadata": {
        "id": "ec788c9f"
      },
      "source": [
        "*italicized text*#### 21. Create a checkerboard 8x8 matrix using the tile function (★☆☆)\n",
        "`💡hint: np.tile`"
      ]
    },
    {
      "cell_type": "code",
      "execution_count": 20,
      "id": "c3980b2c",
      "metadata": {
        "id": "c3980b2c",
        "outputId": "621cc3de-1d63-4a29-927d-07c8a74ef1d2",
        "colab": {
          "base_uri": "https://localhost:8080/"
        }
      },
      "outputs": [
        {
          "output_type": "stream",
          "name": "stdout",
          "text": [
            "[[0 1 0 1 0 1 0 1]\n",
            " [1 0 1 0 1 0 1 0]\n",
            " [0 1 0 1 0 1 0 1]\n",
            " [1 0 1 0 1 0 1 0]\n",
            " [0 1 0 1 0 1 0 1]\n",
            " [1 0 1 0 1 0 1 0]\n",
            " [0 1 0 1 0 1 0 1]\n",
            " [1 0 1 0 1 0 1 0]]\n"
          ]
        }
      ],
      "source": [
        "import numpy as np\n",
        "\n",
        "# إنشاء مصفوفة شطرنج 8x8 باستخدام np.tile\n",
        "checkerboard = np.tile([[0, 1], [1, 0]], (4, 4))\n",
        "\n",
        "print(checkerboard)\n"
      ]
    },
    {
      "cell_type": "markdown",
      "id": "391791e0",
      "metadata": {
        "id": "391791e0"
      },
      "source": [
        "#### 22. Normalize a 6x6 random matrix (★☆☆)\n",
        "`💡hint: (x -mean)/std`"
      ]
    },
    {
      "cell_type": "code",
      "execution_count": 21,
      "id": "ada71c06",
      "metadata": {
        "id": "ada71c06",
        "outputId": "570aa8d7-a4c1-42f1-c74a-94054fdd916a",
        "colab": {
          "base_uri": "https://localhost:8080/"
        }
      },
      "outputs": [
        {
          "output_type": "stream",
          "name": "stdout",
          "text": [
            "المصفوفة الأصلية:\n",
            " [[0.54142851 0.52535343 0.29004599 0.7157561  0.22702335 0.35353192]\n",
            " [0.72508604 0.6369716  0.18469822 0.97197112 0.62248147 0.42485173]\n",
            " [0.03603484 0.806824   0.91403682 0.72818238 0.18647263 0.08156814]\n",
            " [0.64693856 0.41102196 0.05952925 0.91524022 0.75605403 0.68191137]\n",
            " [0.77067963 0.60290312 0.01684333 0.91098552 0.82472474 0.24205508]\n",
            " [0.30716223 0.175135   0.52595422 0.2591773  0.62457443 0.43688567]]\n",
            "\n",
            "المصفوفة بعد التطبيع (Normalization):\n",
            " [[ 0.13506395  0.07722335 -0.76944912  0.7623215  -0.99621428 -0.54101695]\n",
            " [ 0.79589207  0.47884274 -1.14850664  1.68422263  0.426705   -0.28439729]\n",
            " [-1.6834204   1.08999784  1.4757661   0.80703318 -1.14212202 -1.51958457]\n",
            " [ 0.51470537 -0.3341589  -1.59888389  1.48009612  0.90731967  0.64054294]\n",
            " [ 0.95994481  0.35625909 -1.75247439  1.46478707  1.15440748 -0.94212779]\n",
            " [-0.70786225 -1.18291657  0.07938508 -0.88051941  0.43423581 -0.24109732]]\n"
          ]
        }
      ],
      "source": [
        "import numpy as np\n",
        "\n",
        "# إنشاء مصفوفة 6x6 بقيم عشوائية\n",
        "arr = np.random.random((6, 6))\n",
        "\n",
        "# حساب المتوسط والانحراف المعياري\n",
        "mean = arr.mean()\n",
        "std = arr.std()\n",
        "\n",
        "# عمل Normalization\n",
        "normalized_arr = (arr - mean) / std\n",
        "\n",
        "print(\"المصفوفة الأصلية:\\n\", arr)\n",
        "print(\"\\nالمصفوفة بعد التطبيع (Normalization):\\n\", normalized_arr)\n"
      ]
    },
    {
      "cell_type": "markdown",
      "id": "1e74d39e",
      "metadata": {
        "id": "1e74d39e"
      },
      "source": [
        "#### 23. find the number of elements of an array, length of one array element in bytes and total bytes consumed by the elements. (★☆☆)"
      ]
    },
    {
      "cell_type": "code",
      "execution_count": 22,
      "id": "eb0e066c",
      "metadata": {
        "id": "eb0e066c",
        "outputId": "7fbeee84-3f7b-49b1-c3a1-aa36ab0e0699",
        "colab": {
          "base_uri": "https://localhost:8080/"
        }
      },
      "outputs": [
        {
          "output_type": "stream",
          "name": "stdout",
          "text": [
            "عدد العناصر: 5\n",
            "حجم كل عنصر (بايت): 4\n",
            "إجمالي الحجم (بايت): 20\n"
          ]
        }
      ],
      "source": [
        "import numpy as np\n",
        "\n",
        "# إنشاء مصفوفة كمثال\n",
        "arr = np.array([1, 2, 3, 4, 5], dtype=np.int32)\n",
        "\n",
        "# عدد العناصر\n",
        "num_elements = arr.size\n",
        "\n",
        "# حجم كل عنصر بالبايت\n",
        "element_size = arr.itemsize\n",
        "\n",
        "# إجمالي حجم المصفوفة بالبايت\n",
        "total_bytes = arr.nbytes\n",
        "\n",
        "print(\"عدد العناصر:\", num_elements)\n",
        "print(\"حجم كل عنصر (بايت):\", element_size)\n",
        "print(\"إجمالي الحجم (بايت):\", total_bytes)\n"
      ]
    },
    {
      "cell_type": "markdown",
      "id": "78250c14",
      "metadata": {
        "id": "78250c14"
      },
      "source": [
        "**bold text**#### 24. Multiply a 6x3 matrix by a 3x4 matrix (real matrix product) (★☆☆)\n",
        "`💡hint: np.dot` or `np.ones`"
      ]
    },
    {
      "cell_type": "code",
      "execution_count": 23,
      "id": "2e482afe",
      "metadata": {
        "id": "2e482afe",
        "outputId": "75e7cf4e-cb9b-4285-a2ca-48f53bd6166f",
        "colab": {
          "base_uri": "https://localhost:8080/"
        }
      },
      "outputs": [
        {
          "output_type": "stream",
          "name": "stdout",
          "text": [
            "[[3. 3. 3. 3.]\n",
            " [3. 3. 3. 3.]\n",
            " [3. 3. 3. 3.]\n",
            " [3. 3. 3. 3.]\n",
            " [3. 3. 3. 3.]\n",
            " [3. 3. 3. 3.]]\n"
          ]
        }
      ],
      "source": [
        "import numpy as np\n",
        "\n",
        "# إنشاء مصفوفة 6x3 كلها واحدات\n",
        "A = np.ones((6, 3))\n",
        "\n",
        "# إنشاء مصفوفة 3x4 كلها واحدات\n",
        "B = np.ones((3, 4))\n",
        "\n",
        "# الضرب الحقيقي للمصفوفات\n",
        "C = np.dot(A, B)\n",
        "\n",
        "print(C)\n"
      ]
    },
    {
      "cell_type": "markdown",
      "id": "51898680",
      "metadata": {
        "id": "51898680"
      },
      "source": [
        "#### 25. Given a 1D array, negate all elements which are between 3 and 8, in place. (★☆☆)\n",
        "`💡hint: >, <`"
      ]
    },
    {
      "cell_type": "code",
      "execution_count": 24,
      "id": "ee92ccaf",
      "metadata": {
        "id": "ee92ccaf",
        "outputId": "17805ba5-e96c-486e-ecac-0e7b4222729f",
        "colab": {
          "base_uri": "https://localhost:8080/"
        }
      },
      "outputs": [
        {
          "output_type": "stream",
          "name": "stdout",
          "text": [
            "[ 0  1  2  3 -4 -5 -6 -7  8  9]\n"
          ]
        }
      ],
      "source": [
        "import numpy as np\n",
        "\n",
        "# إنشاء مصفوفة 1D كمثال\n",
        "arr = np.arange(10)  # [0 1 2 3 4 5 6 7 8 9]\n",
        "\n",
        "# عكس إشارة القيم بين 3 و 8 (حصري)\n",
        "arr[(arr > 3) & (arr < 8)] *= -1\n",
        "\n",
        "print(arr)\n"
      ]
    },
    {
      "cell_type": "markdown",
      "id": "89e78048",
      "metadata": {
        "id": "89e78048"
      },
      "source": [
        "#### 26. What is the output of the following script? (★☆☆)\n",
        "```python\n",
        "\n",
        "print(sum(range(5),-1))\n",
        "from numpy import *\n",
        "print(sum(range(5),-1))\n",
        "```"
      ]
    },
    {
      "cell_type": "code",
      "execution_count": 25,
      "id": "8026c969",
      "metadata": {
        "id": "8026c969",
        "outputId": "4fdfb039-136d-4ccd-ea05-33344b0669f2",
        "colab": {
          "base_uri": "https://localhost:8080/"
        }
      },
      "outputs": [
        {
          "output_type": "stream",
          "name": "stdout",
          "text": [
            "9\n",
            "10\n"
          ]
        }
      ],
      "source": [
        "print(sum(range(5), -1))\n",
        "from numpy import *\n",
        "print(sum(range(5), -1))\n"
      ]
    },
    {
      "cell_type": "markdown",
      "id": "ebd10810",
      "metadata": {
        "id": "ebd10810"
      },
      "source": [
        "#### 27. Write a Python program compare two arrays using numpy (★☆☆)\n",
        "```python\n",
        "Array a: [1 2]\n",
        "Array b: [4 5]\n",
        "a > b\n",
        "[False False]\n",
        "a >= b\n",
        "[False False]\n",
        "a < b\n",
        "[ True True]\n",
        "a <= b\n",
        "[ True True]\n",
        "```"
      ]
    },
    {
      "cell_type": "code",
      "execution_count": 26,
      "id": "90fed5c6",
      "metadata": {
        "id": "90fed5c6",
        "outputId": "c099f538-1d8a-4f24-e598-01ae9399b4a4",
        "colab": {
          "base_uri": "https://localhost:8080/"
        }
      },
      "outputs": [
        {
          "output_type": "stream",
          "name": "stdout",
          "text": [
            "Array a: [1 2]\n",
            "Array b: [4 5]\n",
            "a > b : [False False]\n",
            "a >= b: [False False]\n",
            "a < b : [ True  True]\n",
            "a <= b: [ True  True]\n"
          ]
        }
      ],
      "source": [
        "import numpy as np\n",
        "\n",
        "# تعريف المصفوفتين\n",
        "a = np.array([1, 2])\n",
        "b = np.array([4, 5])\n",
        "\n",
        "print(\"Array a:\", a)\n",
        "print(\"Array b:\", b)\n",
        "\n",
        "print(\"a > b :\", a > b)\n",
        "print(\"a >= b:\", a >= b)\n",
        "print(\"a < b :\", a < b)\n",
        "print(\"a <= b:\", a <= b)\n"
      ]
    },
    {
      "cell_type": "markdown",
      "id": "c0e940f8",
      "metadata": {
        "id": "c0e940f8"
      },
      "source": [
        "#### 28. What are the result of the following expressions? (★☆☆)\n",
        "```python\n",
        "np.array(0) / np.array(0)\n",
        "np.array(0) // np.array(0)\n",
        "np.array([np.nan]).astype(int).astype(float)\n",
        "```\n",
        "Consider an integer vector a\n",
        "```python\n",
        "a**a\n",
        "a << a >> 2\n",
        "a <- a\n",
        "1j*a\n",
        "a/1/1\n",
        "a<a>a\n",
        "```"
      ]
    },
    {
      "cell_type": "code",
      "execution_count": 27,
      "id": "50d84cdf",
      "metadata": {
        "id": "50d84cdf",
        "outputId": "52b38557-f959-4920-e229-4977586c1515",
        "colab": {
          "base_uri": "https://localhost:8080/",
          "height": 436
        }
      },
      "outputs": [
        {
          "output_type": "stream",
          "name": "stdout",
          "text": [
            "np.array(0) / np.array(0) => nan\n",
            "np.array(0) // np.array(0) => 0\n",
            "np.array([np.nan]).astype(int).astype(float) => [-9.22337204e+18]\n",
            "a ** a => [ 1  4 27]\n",
            "a << a >> 2 => [0 2 6]\n",
            "a < -a => [False False False]\n",
            "1j * a => [0.+1.j 0.+2.j 0.+3.j]\n",
            "a / 1 / 1 => [1. 2. 3.]\n"
          ]
        },
        {
          "output_type": "stream",
          "name": "stderr",
          "text": [
            "/tmp/ipython-input-1066748133.py:4: RuntimeWarning: invalid value encountered in divide\n",
            "  print(\"np.array(0) / np.array(0) =>\", np.array(0) / np.array(0))  # قسمة صفر على صفر\n",
            "/tmp/ipython-input-1066748133.py:5: RuntimeWarning: divide by zero encountered in floor_divide\n",
            "  print(\"np.array(0) // np.array(0) =>\", np.array(0) // np.array(0))  # قسمة صحيحة صفر على صفر\n",
            "/tmp/ipython-input-1066748133.py:6: RuntimeWarning: invalid value encountered in cast\n",
            "  print(\"np.array([np.nan]).astype(int).astype(float) =>\", np.array([np.nan]).astype(int).astype(float))  # تحويل NaN\n"
          ]
        },
        {
          "output_type": "error",
          "ename": "ValueError",
          "evalue": "The truth value of an array with more than one element is ambiguous. Use a.any() or a.all()",
          "traceback": [
            "\u001b[0;31m---------------------------------------------------------------------------\u001b[0m",
            "\u001b[0;31mValueError\u001b[0m                                Traceback (most recent call last)",
            "\u001b[0;32m/tmp/ipython-input-1066748133.py\u001b[0m in \u001b[0;36m<cell line: 0>\u001b[0;34m()\u001b[0m\n\u001b[1;32m     15\u001b[0m \u001b[0mprint\u001b[0m\u001b[0;34m(\u001b[0m\u001b[0;34m\"1j * a =>\"\u001b[0m\u001b[0;34m,\u001b[0m \u001b[0;36m1j\u001b[0m \u001b[0;34m*\u001b[0m \u001b[0ma\u001b[0m\u001b[0;34m)\u001b[0m  \u001b[0;31m# ضرب بالأعداد المركبة\u001b[0m\u001b[0;34m\u001b[0m\u001b[0;34m\u001b[0m\u001b[0m\n\u001b[1;32m     16\u001b[0m \u001b[0mprint\u001b[0m\u001b[0;34m(\u001b[0m\u001b[0;34m\"a / 1 / 1 =>\"\u001b[0m\u001b[0;34m,\u001b[0m \u001b[0ma\u001b[0m \u001b[0;34m/\u001b[0m \u001b[0;36m1\u001b[0m \u001b[0;34m/\u001b[0m \u001b[0;36m1\u001b[0m\u001b[0;34m)\u001b[0m  \u001b[0;31m# قسمة على 1 مرتين\u001b[0m\u001b[0;34m\u001b[0m\u001b[0;34m\u001b[0m\u001b[0m\n\u001b[0;32m---> 17\u001b[0;31m \u001b[0mprint\u001b[0m\u001b[0;34m(\u001b[0m\u001b[0;34m\"a < a > a =>\"\u001b[0m\u001b[0;34m,\u001b[0m \u001b[0ma\u001b[0m \u001b[0;34m<\u001b[0m \u001b[0ma\u001b[0m \u001b[0;34m>\u001b[0m \u001b[0ma\u001b[0m\u001b[0;34m)\u001b[0m  \u001b[0;31m# مقارنة منطقية متسلسلة\u001b[0m\u001b[0;34m\u001b[0m\u001b[0;34m\u001b[0m\u001b[0m\n\u001b[0m",
            "\u001b[0;31mValueError\u001b[0m: The truth value of an array with more than one element is ambiguous. Use a.any() or a.all()"
          ]
        }
      ],
      "source": [
        "import numpy as np\n",
        "\n",
        "# الجزء الأول\n",
        "print(\"np.array(0) / np.array(0) =>\", np.array(0) / np.array(0))  # قسمة صفر على صفر\n",
        "print(\"np.array(0) // np.array(0) =>\", np.array(0) // np.array(0))  # قسمة صحيحة صفر على صفر\n",
        "print(\"np.array([np.nan]).astype(int).astype(float) =>\", np.array([np.nan]).astype(int).astype(float))  # تحويل NaN\n",
        "\n",
        "# إنشاء متجه a\n",
        "a = np.array([1, 2, 3], dtype=int)\n",
        "\n",
        "# عمليات مختلفة على المتجه\n",
        "print(\"a ** a =>\", a ** a)  # أس كل عنصر بنفسه\n",
        "print(\"a << a >> 2 =>\", a << a >> 2)  # إزاحة بتات لليسار ثم لليمين\n",
        "print(\"a < -a =>\", a < -a)  # مقارنة القيم مع سالبها\n",
        "print(\"1j * a =>\", 1j * a)  # ضرب بالأعداد المركبة\n",
        "print(\"a / 1 / 1 =>\", a / 1 / 1)  # قسمة على 1 مرتين\n",
        "print(\"a < a > a =>\", a < a > a)  # مقارنة منطقية متسلسلة\n"
      ]
    },
    {
      "cell_type": "markdown",
      "id": "22713c3f",
      "metadata": {
        "id": "22713c3f"
      },
      "source": [
        "#### 29. How to round away from zero a float array ? (★☆☆)\n",
        "`💡hint: np.uniform, np.copysign, np.ceil, np.abs, np.where`"
      ]
    },
    {
      "cell_type": "code",
      "execution_count": 28,
      "id": "85ebdda9",
      "metadata": {
        "id": "85ebdda9",
        "outputId": "fe666154-5715-486e-fb2e-929361e55df3",
        "colab": {
          "base_uri": "https://localhost:8080/"
        }
      },
      "outputs": [
        {
          "output_type": "stream",
          "name": "stdout",
          "text": [
            "الأرقام الأصلية:\n",
            "[-5.63213068 -9.65128703  8.62769551  7.02286328 -7.74460466 -2.14443174\n",
            "  6.73133989  6.92429545  7.72336765 -3.31592078]\n",
            "\n",
            "بعد التقريب بعيد عن الصفر:\n",
            "[ -6. -10.   9.   8.  -8.  -3.   7.   7.   8.  -4.]\n"
          ]
        }
      ],
      "source": [
        "import numpy as np\n",
        "\n",
        "# إنشاء مصفوفة أعداد عشرية عشوائية بين -10 و 10\n",
        "arr = np.random.uniform(-10, 10, 10)\n",
        "print(\"الأرقام الأصلية:\")\n",
        "print(arr)\n",
        "\n",
        "# تقريب بعيد عن الصفر\n",
        "rounded = np.copysign(np.ceil(np.abs(arr)), arr)\n",
        "print(\"\\nبعد التقريب بعيد عن الصفر:\")\n",
        "print(rounded)\n"
      ]
    },
    {
      "cell_type": "markdown",
      "id": "f1ae2c2d",
      "metadata": {
        "id": "f1ae2c2d"
      },
      "source": [
        "#### 30. How to find common values between two arrays? (★☆☆)\n",
        "`💡hint: np.intersect1d`"
      ]
    },
    {
      "cell_type": "code",
      "execution_count": 29,
      "id": "097482ad",
      "metadata": {
        "id": "097482ad",
        "outputId": "851c8218-3162-4ee6-ec84-a843f04cddd3",
        "colab": {
          "base_uri": "https://localhost:8080/"
        }
      },
      "outputs": [
        {
          "output_type": "stream",
          "name": "stdout",
          "text": [
            "المصفوفة الأولى: [1 3 4 6 8]\n",
            "المصفوفة الثانية: [ 2  4  6  8 10]\n",
            "القيم المشتركة: [4 6 8]\n"
          ]
        }
      ],
      "source": [
        "import numpy as np\n",
        "\n",
        "# إنشاء مصفوفتين (Arrays) بشكل عشوائي\n",
        "arr1 = np.array([1, 3, 4, 6, 8])\n",
        "arr2 = np.array([2, 4, 6, 8, 10])\n",
        "\n",
        "# إيجاد القيم المشتركة بين المصفوفتين\n",
        "common_values = np.intersect1d(arr1, arr2)\n",
        "\n",
        "print(\"المصفوفة الأولى:\", arr1)\n",
        "print(\"المصفوفة الثانية:\", arr2)\n",
        "print(\"القيم المشتركة:\", common_values)\n"
      ]
    },
    {
      "cell_type": "markdown",
      "id": "34a7bdee",
      "metadata": {
        "id": "34a7bdee"
      },
      "source": [
        "#### 31. How to ignore all numpy warnings (not recommended)? (★☆☆)\n",
        "`💡hint: np.seterr, np.errstate`"
      ]
    },
    {
      "cell_type": "code",
      "execution_count": null,
      "id": "95ba8c7d",
      "metadata": {
        "id": "95ba8c7d"
      },
      "outputs": [],
      "source": []
    },
    {
      "cell_type": "markdown",
      "id": "37bc0973",
      "metadata": {
        "id": "37bc0973"
      },
      "source": [
        "#### 32. Is the following expressions true? (★☆☆)\n",
        "```python\n",
        "np.sqrt(-1) == np.emath.sqrt(-1)\n",
        "```\n",
        "`💡hint: imaginary number`"
      ]
    },
    {
      "cell_type": "code",
      "execution_count": null,
      "id": "6925e9db",
      "metadata": {
        "id": "6925e9db"
      },
      "outputs": [],
      "source": []
    },
    {
      "cell_type": "markdown",
      "id": "129c342d",
      "metadata": {
        "id": "129c342d"
      },
      "source": [
        "#### 33. How to get the dates of yesterday, today and tomorrow? (★☆☆)\n",
        "`💡hint: np.datetime64, np.timedelta64`"
      ]
    },
    {
      "cell_type": "code",
      "execution_count": null,
      "id": "0fd2f947",
      "metadata": {
        "id": "0fd2f947"
      },
      "outputs": [],
      "source": []
    },
    {
      "cell_type": "markdown",
      "id": "42f8b2f9",
      "metadata": {
        "id": "42f8b2f9"
      },
      "source": [
        "#### 34. How to get all the dates corresponding to the month of January 2016? (★★☆)\n",
        "`💡hint: np.arange(dtype=datetime64['D'])`"
      ]
    },
    {
      "cell_type": "code",
      "execution_count": null,
      "id": "5ad086b0",
      "metadata": {
        "id": "5ad086b0"
      },
      "outputs": [],
      "source": []
    },
    {
      "cell_type": "markdown",
      "id": "252c43e2",
      "metadata": {
        "id": "252c43e2"
      },
      "source": [
        "#### 35. How to compute ((A+B)*(-A/2)) in place (without copy)? (★★☆)\n",
        "`💡hint: np.add(out=), np.negative(out=), np.multiply(out=), np.divide(out=)`"
      ]
    },
    {
      "cell_type": "code",
      "execution_count": null,
      "id": "34488d4b",
      "metadata": {
        "id": "34488d4b"
      },
      "outputs": [],
      "source": []
    },
    {
      "cell_type": "markdown",
      "id": "486df8ea",
      "metadata": {
        "id": "486df8ea"
      },
      "source": [
        "#### 36. Extract the integer part of a random array of positive numbers using 4 different methods (★★☆)\n",
        "`💡hint: %, np.floor, astype, np.trunc`"
      ]
    },
    {
      "cell_type": "code",
      "execution_count": null,
      "id": "2680c1ca",
      "metadata": {
        "id": "2680c1ca"
      },
      "outputs": [],
      "source": []
    },
    {
      "cell_type": "markdown",
      "id": "649e89f9",
      "metadata": {
        "id": "649e89f9"
      },
      "source": [
        "#### 37. Create a 3x3 matrix with row values ranging from 0 to 2 (★★☆)\n",
        "`💡hint: np.arange`"
      ]
    },
    {
      "cell_type": "code",
      "execution_count": null,
      "id": "e832212f",
      "metadata": {
        "id": "e832212f"
      },
      "outputs": [],
      "source": []
    },
    {
      "cell_type": "markdown",
      "id": "3421e17f",
      "metadata": {
        "id": "3421e17f"
      },
      "source": [
        "#### 38. Consider a generator function that generates 9 integers and use it to build an array (★☆☆)\n",
        "`💡hint: np.fromiter`"
      ]
    },
    {
      "cell_type": "code",
      "execution_count": null,
      "id": "d97fcb71",
      "metadata": {
        "id": "d97fcb71"
      },
      "outputs": [],
      "source": []
    },
    {
      "cell_type": "markdown",
      "id": "483dd554",
      "metadata": {
        "id": "483dd554"
      },
      "source": [
        "#### 39. Create a vector of size 10 with values ranging from 0 to 1, both excluded (★★☆)\n",
        "`💡hint: np.linspace`"
      ]
    },
    {
      "cell_type": "code",
      "execution_count": null,
      "id": "572668cb",
      "metadata": {
        "id": "572668cb"
      },
      "outputs": [],
      "source": []
    },
    {
      "cell_type": "markdown",
      "id": "2d07be1c",
      "metadata": {
        "id": "2d07be1c"
      },
      "source": [
        "#### 40. Create a random vector of size 10 and sort it (★★☆)\n",
        "`💡hint: sort`"
      ]
    },
    {
      "cell_type": "code",
      "execution_count": null,
      "id": "046a541a",
      "metadata": {
        "id": "046a541a"
      },
      "outputs": [],
      "source": []
    },
    {
      "cell_type": "markdown",
      "id": "6415f02e",
      "metadata": {
        "id": "6415f02e"
      },
      "source": [
        "#### 41. How to sum a small array faster than np.sum? (★★☆)\n",
        "`💡hint: np.add.reduce`"
      ]
    },
    {
      "cell_type": "code",
      "execution_count": null,
      "id": "129e785f",
      "metadata": {
        "id": "129e785f"
      },
      "outputs": [],
      "source": []
    },
    {
      "cell_type": "markdown",
      "id": "fe043549",
      "metadata": {
        "id": "fe043549"
      },
      "source": [
        "#### 42. Consider two random array A and B, check if they are equal (★★☆)\n",
        "`💡hint: np.allclose, np.array_equal`"
      ]
    },
    {
      "cell_type": "code",
      "execution_count": null,
      "id": "7ada2e2b",
      "metadata": {
        "id": "7ada2e2b"
      },
      "outputs": [],
      "source": []
    },
    {
      "cell_type": "markdown",
      "id": "cc08f71c",
      "metadata": {
        "id": "cc08f71c"
      },
      "source": [
        "#### 43. Make an array immutable (read-only) (★★☆)\n",
        "`💡hint: flags.writeable`"
      ]
    },
    {
      "cell_type": "code",
      "execution_count": null,
      "id": "0b91afd1",
      "metadata": {
        "id": "0b91afd1"
      },
      "outputs": [],
      "source": []
    },
    {
      "cell_type": "markdown",
      "id": "2002cb03",
      "metadata": {
        "id": "2002cb03"
      },
      "source": [
        "#### 44. Consider a random 5x2 matrix representing cartesian coordinates, convert them to polar coordinates (★★☆)\n",
        "`💡hint: np.sqrt, np.arctan2`"
      ]
    },
    {
      "cell_type": "code",
      "execution_count": null,
      "id": "16476671",
      "metadata": {
        "id": "16476671"
      },
      "outputs": [],
      "source": []
    },
    {
      "cell_type": "markdown",
      "id": "b7109c9f",
      "metadata": {
        "id": "b7109c9f"
      },
      "source": [
        "#### 45. Create random vector of size 5 and replace the maximum value by 0 (★★☆)\n",
        "`💡hint: argmax`"
      ]
    },
    {
      "cell_type": "code",
      "execution_count": null,
      "id": "89b75e6d",
      "metadata": {
        "id": "89b75e6d"
      },
      "outputs": [],
      "source": []
    },
    {
      "cell_type": "markdown",
      "id": "7d3131b9",
      "metadata": {
        "id": "7d3131b9"
      },
      "source": [
        "#### 46. Create a structured array with `x` and `y` coordinates covering the [0,1]x[0,1] area (★★☆)\n",
        "`💡hint: np.meshgrid`"
      ]
    },
    {
      "cell_type": "code",
      "execution_count": null,
      "id": "445532d0",
      "metadata": {
        "id": "445532d0"
      },
      "outputs": [],
      "source": []
    },
    {
      "cell_type": "markdown",
      "id": "7c8c1fc5",
      "metadata": {
        "id": "7c8c1fc5"
      },
      "source": [
        "#### 47. Given two arrays, X and Y, construct the Cauchy matrix C (Cij =1/(xi - yj)) (★★☆)\n",
        "`💡hint: np.subtract.outer`"
      ]
    },
    {
      "cell_type": "code",
      "execution_count": null,
      "id": "7668afae",
      "metadata": {
        "id": "7668afae"
      },
      "outputs": [],
      "source": []
    },
    {
      "cell_type": "markdown",
      "id": "5795b4bd",
      "metadata": {
        "id": "5795b4bd"
      },
      "source": [
        "#### 48. Print the minimum and maximum representable value for each numpy scalar type (★★☆)\n",
        "`💡hint: np.iinfo, np.finfo, eps`"
      ]
    },
    {
      "cell_type": "code",
      "execution_count": null,
      "id": "f2eaddaa",
      "metadata": {
        "id": "f2eaddaa"
      },
      "outputs": [],
      "source": []
    },
    {
      "cell_type": "markdown",
      "id": "fb24674c",
      "metadata": {
        "id": "fb24674c"
      },
      "source": [
        "#### 49. How to print all the values of an array? (★★☆)\n",
        "`💡hint: np.set_printoptions`"
      ]
    },
    {
      "cell_type": "code",
      "execution_count": null,
      "id": "9bdfaefe",
      "metadata": {
        "id": "9bdfaefe"
      },
      "outputs": [],
      "source": []
    },
    {
      "cell_type": "markdown",
      "id": "e6e1ae2f",
      "metadata": {
        "id": "e6e1ae2f"
      },
      "source": [
        "#### 50. How to find the closest value (to a given scalar) in a vector? (★★☆)\n",
        "`💡hint: argmin`"
      ]
    },
    {
      "cell_type": "code",
      "execution_count": null,
      "id": "29a9e416",
      "metadata": {
        "id": "29a9e416"
      },
      "outputs": [],
      "source": []
    },
    {
      "cell_type": "markdown",
      "id": "c01f0ecf",
      "metadata": {
        "id": "c01f0ecf"
      },
      "source": [
        "#### 51. Create a structured array representing a position (x,y) and a color (r,g,b) (★★☆)\n",
        "`💡hint: dtype`"
      ]
    },
    {
      "cell_type": "code",
      "execution_count": null,
      "id": "a3241eca",
      "metadata": {
        "id": "a3241eca"
      },
      "outputs": [],
      "source": []
    },
    {
      "cell_type": "markdown",
      "id": "3b64a18b",
      "metadata": {
        "id": "3b64a18b"
      },
      "source": [
        "#### 52. Consider a random vector with shape (100,2) representing coordinates, find point by point distances (★★☆)\n",
        "`💡hint: np.atleast_2d, T, np.sqrt`"
      ]
    },
    {
      "cell_type": "code",
      "execution_count": null,
      "id": "f27585c3",
      "metadata": {
        "id": "f27585c3"
      },
      "outputs": [],
      "source": []
    },
    {
      "cell_type": "markdown",
      "id": "48413134",
      "metadata": {
        "id": "48413134"
      },
      "source": [
        "#### 53. How to convert a float (32 bits) array into an integer (32 bits) in place?\n",
        "`💡hint: view and [:] =`"
      ]
    },
    {
      "cell_type": "code",
      "execution_count": null,
      "id": "59c8357d",
      "metadata": {
        "id": "59c8357d"
      },
      "outputs": [],
      "source": []
    },
    {
      "cell_type": "markdown",
      "id": "0a532633",
      "metadata": {
        "id": "0a532633"
      },
      "source": [
        "#### 54. How to read the following file? (★★☆)\n",
        "```\n",
        "1, 2, 3, 4, 5\n",
        "6,  ,  , 7, 8\n",
        " ,  , 9,10,11\n",
        "```\n",
        "`💡hint: np.genfromtxt`"
      ]
    },
    {
      "cell_type": "code",
      "execution_count": null,
      "id": "81b2915b",
      "metadata": {
        "id": "81b2915b"
      },
      "outputs": [],
      "source": []
    },
    {
      "cell_type": "markdown",
      "id": "f98713a6",
      "metadata": {
        "id": "f98713a6"
      },
      "source": [
        "#### 55. What is the equivalent of enumerate for numpy arrays? (★★☆)\n",
        "`💡hint: np.ndenumerate, np.ndindex`"
      ]
    },
    {
      "cell_type": "code",
      "execution_count": null,
      "id": "c8ace8dc",
      "metadata": {
        "id": "c8ace8dc"
      },
      "outputs": [],
      "source": []
    },
    {
      "cell_type": "markdown",
      "id": "1abc7cc8",
      "metadata": {
        "id": "1abc7cc8"
      },
      "source": [
        "#### 56. Generate a generic 2D Gaussian-like array (★★☆)\n",
        "`💡hint: np.meshgrid, np.exp`"
      ]
    },
    {
      "cell_type": "code",
      "execution_count": null,
      "id": "8389dbf6",
      "metadata": {
        "id": "8389dbf6"
      },
      "outputs": [],
      "source": []
    },
    {
      "cell_type": "markdown",
      "id": "0cf413ee",
      "metadata": {
        "id": "0cf413ee"
      },
      "source": [
        "#### 57. How to randomly place e elements in a 2D array? (★★☆)\n",
        "`💡hint: np.put, np.random.choice`"
      ]
    },
    {
      "cell_type": "code",
      "execution_count": null,
      "id": "884c88de",
      "metadata": {
        "id": "884c88de"
      },
      "outputs": [],
      "source": []
    },
    {
      "cell_type": "markdown",
      "id": "215b6acc",
      "metadata": {
        "id": "215b6acc"
      },
      "source": [
        "#### 58. Subtract the mean of each row of a matrix (★★☆)\n",
        "`💡hint: mean(axis=,keepdims=)`"
      ]
    },
    {
      "cell_type": "code",
      "execution_count": null,
      "id": "76d3b16a",
      "metadata": {
        "id": "76d3b16a"
      },
      "outputs": [],
      "source": []
    },
    {
      "cell_type": "markdown",
      "id": "c0cf37e0",
      "metadata": {
        "id": "c0cf37e0"
      },
      "source": [
        "#### 59. How to sort an array by the nth column? (★★☆)\n",
        "`💡hint: argsort`"
      ]
    },
    {
      "cell_type": "code",
      "execution_count": null,
      "id": "f99dfd2a",
      "metadata": {
        "id": "f99dfd2a"
      },
      "outputs": [],
      "source": []
    },
    {
      "cell_type": "markdown",
      "id": "c17fb213",
      "metadata": {
        "id": "c17fb213"
      },
      "source": [
        "#### 60. How to tell if a given 2D array has null columns? (★★☆)\n",
        "`💡hint: any, ~`"
      ]
    },
    {
      "cell_type": "code",
      "execution_count": null,
      "id": "84346fc8",
      "metadata": {
        "id": "84346fc8"
      },
      "outputs": [],
      "source": []
    },
    {
      "cell_type": "markdown",
      "id": "8aaab886",
      "metadata": {
        "id": "8aaab886"
      },
      "source": [
        "#### 61. Find the nearest value from a given value in an array (★★☆)\n",
        "`💡hint: np.abs, argmin, flat`"
      ]
    },
    {
      "cell_type": "code",
      "execution_count": null,
      "id": "72a6090d",
      "metadata": {
        "id": "72a6090d"
      },
      "outputs": [],
      "source": []
    },
    {
      "cell_type": "markdown",
      "id": "66a04e2e",
      "metadata": {
        "id": "66a04e2e"
      },
      "source": [
        "#### 62. Considering two arrays with shape (1,3) and (3,1), how to compute their sum using an iterator? (★★☆)\n",
        "`💡"
      ]
    },
    {
      "cell_type": "code",
      "execution_count": null,
      "id": "93774f24",
      "metadata": {
        "id": "93774f24"
      },
      "outputs": [],
      "source": []
    },
    {
      "cell_type": "markdown",
      "id": "f4427f7f",
      "metadata": {
        "id": "f4427f7f"
      },
      "source": [
        "#### 63. Create an array class that has a name attribute (★★☆)\n",
        "`💡hint: class method`"
      ]
    },
    {
      "cell_type": "code",
      "execution_count": null,
      "id": "6e1952ed",
      "metadata": {
        "id": "6e1952ed"
      },
      "outputs": [],
      "source": []
    },
    {
      "cell_type": "markdown",
      "id": "58be9dd4",
      "metadata": {
        "id": "58be9dd4"
      },
      "source": [
        "#### 64. Consider a given vector, how to add 1 to each element indexed by a second vector (be careful with repeated indices)? (★★★)\n",
        "`💡hint: np.bincount | np.add.at`"
      ]
    },
    {
      "cell_type": "code",
      "execution_count": null,
      "id": "9cf9e134",
      "metadata": {
        "id": "9cf9e134"
      },
      "outputs": [],
      "source": []
    },
    {
      "cell_type": "markdown",
      "id": "7348abd0",
      "metadata": {
        "id": "7348abd0"
      },
      "source": [
        "#### 65. How to accumulate elements of a vector (X) to an array (F) based on an index list (I)? (★★★)\n",
        "`💡hint: np.bincount`"
      ]
    },
    {
      "cell_type": "code",
      "execution_count": null,
      "id": "43a58dde",
      "metadata": {
        "id": "43a58dde"
      },
      "outputs": [],
      "source": []
    },
    {
      "cell_type": "markdown",
      "id": "538e651c",
      "metadata": {
        "id": "538e651c"
      },
      "source": [
        "#### 66. Considering a (w,h,3) image of (dtype=ubyte), compute the number of unique colors (★★☆)\n",
        "`💡hint: np.unique`"
      ]
    },
    {
      "cell_type": "code",
      "execution_count": null,
      "id": "60b487a1",
      "metadata": {
        "id": "60b487a1"
      },
      "outputs": [],
      "source": []
    },
    {
      "cell_type": "markdown",
      "id": "33c986d9",
      "metadata": {
        "id": "33c986d9"
      },
      "source": [
        "#### 67. Considering a four dimensions array, how to get sum over the last two axis at once? (★★★)\n",
        "`💡hint: sum(axis=(-2,-1))`"
      ]
    },
    {
      "cell_type": "code",
      "execution_count": null,
      "id": "6ba943fe",
      "metadata": {
        "id": "6ba943fe"
      },
      "outputs": [],
      "source": []
    },
    {
      "cell_type": "markdown",
      "id": "00eb27c4",
      "metadata": {
        "id": "00eb27c4"
      },
      "source": [
        "#### 68. Considering a one-dimensional vector D, how to compute means of subsets of D using a vector S of same size describing subset  indices? (★★★)\n",
        "`💡hint: np.bincount`"
      ]
    },
    {
      "cell_type": "code",
      "execution_count": null,
      "id": "177b219c",
      "metadata": {
        "id": "177b219c"
      },
      "outputs": [],
      "source": []
    },
    {
      "cell_type": "markdown",
      "id": "928a1a15",
      "metadata": {
        "id": "928a1a15"
      },
      "source": [
        "#### 69. How to get the diagonal of a dot product? (★★★)\n",
        "`💡hint: np.diag`"
      ]
    },
    {
      "cell_type": "code",
      "execution_count": null,
      "id": "038b9c1c",
      "metadata": {
        "id": "038b9c1c"
      },
      "outputs": [],
      "source": []
    },
    {
      "cell_type": "markdown",
      "id": "5143f7f3",
      "metadata": {
        "id": "5143f7f3"
      },
      "source": [
        "#### 70. Consider the vector [1, 2, 3, 4, 5], how to build a new vector with 3 consecutive zeros interleaved between each value? (★★★)\n",
        "`💡hint: array[::4]`"
      ]
    },
    {
      "cell_type": "code",
      "execution_count": null,
      "id": "9913e7b0",
      "metadata": {
        "id": "9913e7b0"
      },
      "outputs": [],
      "source": []
    },
    {
      "cell_type": "markdown",
      "id": "f62551d8",
      "metadata": {
        "id": "f62551d8"
      },
      "source": [
        "#### 71. Consider an array of dimension (5,5,3), how to mulitply it by an array with dimensions (5,5)? (★★★)\n",
        "`💡hint: array[:, :, None]`"
      ]
    },
    {
      "cell_type": "code",
      "execution_count": null,
      "id": "02967528",
      "metadata": {
        "id": "02967528"
      },
      "outputs": [],
      "source": []
    },
    {
      "cell_type": "markdown",
      "id": "6896e326",
      "metadata": {
        "id": "6896e326"
      },
      "source": [
        "#### 72. How to swap two rows of an array? (★★★)\n",
        "`💡hint: array[[]] = array[[]]`"
      ]
    },
    {
      "cell_type": "code",
      "execution_count": null,
      "id": "33488c53",
      "metadata": {
        "id": "33488c53"
      },
      "outputs": [],
      "source": []
    },
    {
      "cell_type": "markdown",
      "id": "aeaf4a7b",
      "metadata": {
        "id": "aeaf4a7b"
      },
      "source": [
        "#### 73. Consider a set of 10 triplets describing 10 triangles (with shared vertices), find the set of unique line segments composing all the  triangles (★★★)\n",
        "`💡hint: repeat, np.roll, np.sort, view, np.unique`"
      ]
    },
    {
      "cell_type": "code",
      "execution_count": null,
      "id": "be837a66",
      "metadata": {
        "id": "be837a66"
      },
      "outputs": [],
      "source": []
    },
    {
      "cell_type": "markdown",
      "id": "3d11451b",
      "metadata": {
        "id": "3d11451b"
      },
      "source": [
        "#### 74. Given a sorted array C that corresponds to a bincount, how to produce an array A such that np.bincount(A) == C? (★★★)\n",
        "`💡hint: np.repeat`"
      ]
    },
    {
      "cell_type": "code",
      "execution_count": null,
      "id": "6912341a",
      "metadata": {
        "id": "6912341a"
      },
      "outputs": [],
      "source": []
    },
    {
      "cell_type": "markdown",
      "id": "a0a45995",
      "metadata": {
        "id": "a0a45995"
      },
      "source": [
        "#### 75. How to compute averages using a sliding window over an array? (★★★)\n",
        "`💡hint: np.cumsum`"
      ]
    },
    {
      "cell_type": "code",
      "execution_count": null,
      "id": "d307be78",
      "metadata": {
        "id": "d307be78"
      },
      "outputs": [],
      "source": []
    },
    {
      "cell_type": "markdown",
      "id": "7808578f",
      "metadata": {
        "id": "7808578f"
      },
      "source": [
        "#### 76. Consider a one-dimensional array Z, build a two-dimensional array whose first row is (Z[0],Z[1],Z[2]) and each subsequent row is  shifted by 1 (last row should be (Z[-3],Z[-2],Z[-1]) (★★★)\n",
        "`💡hint: from numpy.lib import stride_tricks`"
      ]
    },
    {
      "cell_type": "code",
      "execution_count": null,
      "id": "539e5596",
      "metadata": {
        "id": "539e5596"
      },
      "outputs": [],
      "source": []
    },
    {
      "cell_type": "markdown",
      "id": "8e83df46",
      "metadata": {
        "id": "8e83df46"
      },
      "source": [
        "#### 77. How to negate a boolean, or to change the sign of a float inplace? (★★★)\n",
        "`💡hint: np.logical_not, np.negative`"
      ]
    },
    {
      "cell_type": "code",
      "execution_count": null,
      "id": "90da18ec",
      "metadata": {
        "id": "90da18ec"
      },
      "outputs": [],
      "source": []
    },
    {
      "cell_type": "markdown",
      "id": "e67ff31c",
      "metadata": {
        "id": "e67ff31c"
      },
      "source": [
        "#### 78. Consider 2 sets of points P0,P1 describing lines (2d) and a point p, how to compute distance from p to each line i (P0[i],P1[i])? (★★★)"
      ]
    },
    {
      "cell_type": "code",
      "execution_count": null,
      "id": "aaa0c5cb",
      "metadata": {
        "id": "aaa0c5cb"
      },
      "outputs": [],
      "source": []
    },
    {
      "cell_type": "markdown",
      "id": "ad8821b1",
      "metadata": {
        "id": "ad8821b1"
      },
      "source": [
        "#### 79. Consider 2 sets of points P0,P1 describing lines (2d) and a set of points P, how to compute distance from each point j (P[j]) to each line i (P0[i],P1[i])? (★★★)"
      ]
    },
    {
      "cell_type": "code",
      "execution_count": null,
      "id": "12f9a524",
      "metadata": {
        "id": "12f9a524"
      },
      "outputs": [],
      "source": []
    },
    {
      "cell_type": "markdown",
      "id": "a0c8cbf5",
      "metadata": {
        "id": "a0c8cbf5"
      },
      "source": [
        "#### 80. Consider an arbitrary array, write a function that extract a subpart with a fixed shape and centered on a given element (pad with a `fill` value when necessary) (★★★)\n",
        "`💡hint: minimum maximum`"
      ]
    },
    {
      "cell_type": "code",
      "execution_count": null,
      "id": "6e44ae96",
      "metadata": {
        "id": "6e44ae96"
      },
      "outputs": [],
      "source": []
    },
    {
      "cell_type": "markdown",
      "id": "781fa236",
      "metadata": {
        "id": "781fa236"
      },
      "source": [
        "#### 81. Consider an array a = [1,2,3,4,5,6,7,8,9,10,11,12,13,14], how to generate an array b = [[1,2,3,4], [2,3,4,5], [3,4,5,6], ..., [11,12,13,14]]? (★★★)\n",
        "`💡hint: stride_tricks.as_strided`"
      ]
    },
    {
      "cell_type": "code",
      "execution_count": null,
      "id": "82e3d17e",
      "metadata": {
        "id": "82e3d17e"
      },
      "outputs": [],
      "source": []
    },
    {
      "cell_type": "markdown",
      "id": "9c9bb0f3",
      "metadata": {
        "id": "9c9bb0f3"
      },
      "source": [
        "#### 82. Compute a matrix rank (★★★)\n",
        "`💡hint: np.linalg.svd`"
      ]
    },
    {
      "cell_type": "code",
      "execution_count": null,
      "id": "18f053fa",
      "metadata": {
        "id": "18f053fa"
      },
      "outputs": [],
      "source": []
    },
    {
      "cell_type": "markdown",
      "id": "7d8dc135",
      "metadata": {
        "id": "7d8dc135"
      },
      "source": [
        "#### 83. How to find the most frequent value in an array?\n",
        "`💡hint: np.bincount, argmax`"
      ]
    },
    {
      "cell_type": "code",
      "execution_count": null,
      "id": "81844e99",
      "metadata": {
        "id": "81844e99"
      },
      "outputs": [],
      "source": []
    },
    {
      "cell_type": "markdown",
      "id": "aa340126",
      "metadata": {
        "id": "aa340126"
      },
      "source": [
        "#### 84. Extract all the contiguous 3x3 blocks from a random 10x10 matrix (★★★)\n",
        "`💡hint: stride_tricks.as_strided`"
      ]
    },
    {
      "cell_type": "code",
      "execution_count": null,
      "id": "f39dd2dd",
      "metadata": {
        "id": "f39dd2dd"
      },
      "outputs": [],
      "source": []
    },
    {
      "cell_type": "markdown",
      "id": "6b6d2c84",
      "metadata": {
        "id": "6b6d2c84"
      },
      "source": [
        "#### 85. Create a 2D array subclass such that a[i,j] == a[j,i] (★★★)\n",
        "`💡hint: class method`"
      ]
    },
    {
      "cell_type": "code",
      "execution_count": null,
      "id": "1916d67d",
      "metadata": {
        "id": "1916d67d"
      },
      "outputs": [],
      "source": []
    },
    {
      "cell_type": "markdown",
      "id": "7be0fe36",
      "metadata": {
        "id": "7be0fe36"
      },
      "source": [
        "#### 86. Consider a set of p matrices wich shape (n,n) and a set of p vectors with shape (n,1). How to compute the sum of of the p matrix products at once? (result has shape (n,1)) (★★★)\n",
        "`💡hint: np.tensordot`"
      ]
    },
    {
      "cell_type": "code",
      "execution_count": null,
      "id": "1d07c08f",
      "metadata": {
        "id": "1d07c08f"
      },
      "outputs": [],
      "source": []
    },
    {
      "cell_type": "markdown",
      "id": "a840a88f",
      "metadata": {
        "id": "a840a88f"
      },
      "source": [
        "#### 87. Consider a 16x16 array, how to get the block-sum (block size is 4x4)? (★★★)\n",
        "`💡hint: np.add.reduceat`"
      ]
    },
    {
      "cell_type": "code",
      "execution_count": null,
      "id": "7200f861",
      "metadata": {
        "id": "7200f861"
      },
      "outputs": [],
      "source": []
    },
    {
      "cell_type": "markdown",
      "id": "c2bd7385",
      "metadata": {
        "id": "c2bd7385"
      },
      "source": [
        "#### 88. How to implement the Game of Life using numpy arrays? (★★★)"
      ]
    },
    {
      "cell_type": "code",
      "execution_count": null,
      "id": "7a5d67d2",
      "metadata": {
        "id": "7a5d67d2"
      },
      "outputs": [],
      "source": []
    },
    {
      "cell_type": "markdown",
      "id": "4c70397b",
      "metadata": {
        "id": "4c70397b"
      },
      "source": [
        "#### 89. How to get the n largest values of an array (★★★)\n",
        "`💡hint: np.argsort | np.argpartition`"
      ]
    },
    {
      "cell_type": "code",
      "execution_count": null,
      "id": "732993b7",
      "metadata": {
        "id": "732993b7"
      },
      "outputs": [],
      "source": []
    },
    {
      "cell_type": "markdown",
      "id": "15ba193c",
      "metadata": {
        "id": "15ba193c"
      },
      "source": [
        "#### 90. Given an arbitrary number of vectors, build the cartesian product (every combinations of every item) (★★★)\n",
        "`💡hint: np.indices`"
      ]
    },
    {
      "cell_type": "code",
      "execution_count": null,
      "id": "3a315a00",
      "metadata": {
        "id": "3a315a00"
      },
      "outputs": [],
      "source": []
    },
    {
      "cell_type": "markdown",
      "id": "ec828405",
      "metadata": {
        "id": "ec828405"
      },
      "source": [
        "#### 91. How to create a record array from a regular array? (★★★)\n",
        "`💡hint: np.core.records.fromarrays`"
      ]
    },
    {
      "cell_type": "code",
      "execution_count": null,
      "id": "608a017a",
      "metadata": {
        "id": "608a017a"
      },
      "outputs": [],
      "source": []
    },
    {
      "cell_type": "markdown",
      "id": "d94352b6",
      "metadata": {
        "id": "d94352b6"
      },
      "source": [
        "#### 92. Consider a large vector A, compute A to the power of 3 using 3 different methods (★★★)\n",
        "`💡hint: np.power, *, np.einsum`"
      ]
    },
    {
      "cell_type": "code",
      "execution_count": null,
      "id": "759d5ce5",
      "metadata": {
        "id": "759d5ce5"
      },
      "outputs": [],
      "source": []
    },
    {
      "cell_type": "markdown",
      "id": "7c3a9e32",
      "metadata": {
        "id": "7c3a9e32"
      },
      "source": [
        "#### 93. Consider two arrays A and B of shape (8,3) and (2,2). How to find rows of A that contain elements of each row of B regardless of the order of the elements in B? (★★★)\n",
        "`💡hint: np.where`"
      ]
    },
    {
      "cell_type": "code",
      "execution_count": null,
      "id": "5c293501",
      "metadata": {
        "id": "5c293501"
      },
      "outputs": [],
      "source": []
    },
    {
      "cell_type": "markdown",
      "id": "da9d5eeb",
      "metadata": {
        "id": "da9d5eeb"
      },
      "source": [
        "#### 94. Considering a 10x3 matrix, extract rows with unequal values (e.g. [2,2,3]) (★★★)"
      ]
    },
    {
      "cell_type": "code",
      "execution_count": null,
      "id": "89d5fba0",
      "metadata": {
        "id": "89d5fba0"
      },
      "outputs": [],
      "source": []
    },
    {
      "cell_type": "markdown",
      "id": "f7b65fd5",
      "metadata": {
        "id": "f7b65fd5"
      },
      "source": [
        "#### 95. Convert a vector of ints into a matrix binary representation (★★★)\n",
        "`💡hint: np.unpackbits`"
      ]
    },
    {
      "cell_type": "code",
      "execution_count": null,
      "id": "4edef8b1",
      "metadata": {
        "id": "4edef8b1"
      },
      "outputs": [],
      "source": []
    },
    {
      "cell_type": "markdown",
      "id": "2784c996",
      "metadata": {
        "id": "2784c996"
      },
      "source": [
        "#### 96. Given a two dimensional array, how to extract unique rows? (★★★)\n",
        "`💡hint: np.ascontiguousarray | np.unique`"
      ]
    },
    {
      "cell_type": "code",
      "execution_count": null,
      "id": "1d65d01e",
      "metadata": {
        "id": "1d65d01e"
      },
      "outputs": [],
      "source": []
    },
    {
      "cell_type": "markdown",
      "id": "71a7574c",
      "metadata": {
        "id": "71a7574c"
      },
      "source": [
        "#### 97. Considering 2 vectors A & B, write the einsum equivalent of inner, outer, sum, and mul function (★★★)\n",
        "`💡hint: np.einsum`"
      ]
    },
    {
      "cell_type": "code",
      "execution_count": null,
      "id": "43471b2e",
      "metadata": {
        "id": "43471b2e"
      },
      "outputs": [],
      "source": []
    },
    {
      "cell_type": "markdown",
      "id": "30f06441",
      "metadata": {
        "id": "30f06441"
      },
      "source": [
        "#### 98. Considering a path described by two vectors (X,Y), how to sample it using equidistant samples (★★★)?\n",
        "`💡hint: np.cumsum, np.interp`"
      ]
    },
    {
      "cell_type": "code",
      "execution_count": null,
      "id": "ddac593f",
      "metadata": {
        "id": "ddac593f"
      },
      "outputs": [],
      "source": []
    },
    {
      "cell_type": "markdown",
      "id": "e5737276",
      "metadata": {
        "id": "e5737276"
      },
      "source": [
        "#### 99. Given an integer n and a 2D array X, select from X the rows which can be interpreted as draws from a multinomial distribution with n degrees, i.e., the rows which only contain integers and which sum to n. (★★★)\n",
        "`💡hint: np.logical_and.reduce, np.mod`"
      ]
    },
    {
      "cell_type": "code",
      "execution_count": null,
      "id": "5d0d0fa8",
      "metadata": {
        "id": "5d0d0fa8"
      },
      "outputs": [],
      "source": []
    },
    {
      "cell_type": "markdown",
      "id": "5882e36d",
      "metadata": {
        "id": "5882e36d"
      },
      "source": [
        "#### 100. Compute bootstrapped 95% confidence intervals for the mean of a 1D array X (i.e., resample the elements of an array with replacement N times, compute the mean of each sample, and then compute percentiles over the means). (★★★)\n",
        "`💡hint: np.percentile`"
      ]
    },
    {
      "cell_type": "code",
      "execution_count": null,
      "id": "c21a8816",
      "metadata": {
        "id": "c21a8816"
      },
      "outputs": [],
      "source": []
    }
  ],
  "metadata": {
    "hide_input": false,
    "kernelspec": {
      "display_name": "Python 3 (ipykernel)",
      "language": "python",
      "name": "python3"
    },
    "language_info": {
      "codemirror_mode": {
        "name": "ipython",
        "version": 3
      },
      "file_extension": ".py",
      "mimetype": "text/x-python",
      "name": "python",
      "nbconvert_exporter": "python",
      "pygments_lexer": "ipython3",
      "version": "3.12.3"
    },
    "toc": {
      "base_numbering": 1,
      "nav_menu": {},
      "number_sections": true,
      "sideBar": true,
      "skip_h1_title": false,
      "title_cell": "Table of Contents",
      "title_sidebar": "Contents",
      "toc_cell": false,
      "toc_position": {},
      "toc_section_display": true,
      "toc_window_display": false
    },
    "varInspector": {
      "cols": {
        "lenName": 16,
        "lenType": 16,
        "lenVar": 40
      },
      "kernels_config": {
        "python": {
          "delete_cmd_postfix": "",
          "delete_cmd_prefix": "del ",
          "library": "var_list.py",
          "varRefreshCmd": "print(var_dic_list())"
        },
        "r": {
          "delete_cmd_postfix": ") ",
          "delete_cmd_prefix": "rm(",
          "library": "var_list.r",
          "varRefreshCmd": "cat(var_dic_list()) "
        }
      },
      "types_to_exclude": [
        "module",
        "function",
        "builtin_function_or_method",
        "instance",
        "_Feature"
      ],
      "window_display": false
    },
    "colab": {
      "provenance": [],
      "include_colab_link": true
    }
  },
  "nbformat": 4,
  "nbformat_minor": 5
}