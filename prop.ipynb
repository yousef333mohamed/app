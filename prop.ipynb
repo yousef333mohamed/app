{
  "nbformat": 4,
  "nbformat_minor": 0,
  "metadata": {
    "colab": {
      "provenance": [],
      "authorship_tag": "ABX9TyOC1Duno1zO/wKotSELxoS2",
      "include_colab_link": true
    },
    "kernelspec": {
      "name": "python3",
      "display_name": "Python 3"
    },
    "language_info": {
      "name": "python"
    }
  },
  "cells": [
    {
      "cell_type": "markdown",
      "metadata": {
        "id": "view-in-github",
        "colab_type": "text"
      },
      "source": [
        "<a href=\"https://colab.research.google.com/github/yousef333mohamed/app/blob/main/prop.ipynb\" target=\"_parent\"><img src=\"https://colab.research.google.com/assets/colab-badge.svg\" alt=\"Open In Colab\"/></a>"
      ]
    },
    {
      "cell_type": "code",
      "execution_count": 1,
      "metadata": {
        "colab": {
          "base_uri": "https://localhost:8080/"
        },
        "id": "fCv35DWOW39b",
        "outputId": "2e434b7d-7a67-43a4-d339-3c26adf4af3a"
      },
      "outputs": [
        {
          "output_type": "stream",
          "name": "stdout",
          "text": [
            "======== 1. Manual vs NumPy Mean ========\n",
            "Manual Mean: 20.5\n",
            "NumPy Mean: 20.5\n",
            "\n",
            "======== 2. Median Without Sorting Function ========\n",
            "Data: [17, 26, 39, 17, 41, 36, 31, 40, 27, 15, 31, 23, 23, 34, 23]\n",
            "Manual Median: 27\n",
            "NumPy Median: 27.0\n",
            "\n",
            "======== 3. Range and Data Spread ========\n",
            "Manual Min: 15 | NumPy Min: 15\n",
            "Manual Max: 41 | NumPy Max: 41\n",
            "Manual Range: 26 | NumPy Range: 26\n",
            "\n",
            "======== 4. Variance & Standard Deviation ========\n",
            "Manual Variance: 11.359375 | NumPy Variance: 11.359375\n",
            "Manual Std Dev: 3.370367190678191 | NumPy Std Dev: 3.370367190678191\n",
            "\n",
            "======== 5. Quartiles & IQR ========\n",
            "Q1: 36.75\n",
            "Q2 (Median): 40.5\n",
            "Q3: 42.75\n",
            "IQR: 6.0\n",
            "\n",
            "======== 6. Z-Score Normalization ========\n",
            "Numbers: [10, 12, 23, 23, 16, 23, 21, 16]\n",
            "Z-Scores: [-1.6329931618554523, -1.2247448713915892, 1.0206207261596576, 1.0206207261596576, -0.4082482904638631, 1.0206207261596576, 0.6123724356957946, -0.4082482904638631]\n",
            "\n",
            "======== 7. Moving Average ========\n",
            "Data: [74, 66, 62, 25, 17, 20, 2, 70, 99, 60, 2, 65, 52, 42, 42, 94, 68, 12, 68, 44]\n",
            "Manual Moving Average: [67.33333333333333, 51.0, 34.666666666666664, 20.666666666666668, 13.0, 30.666666666666668, 57.0, 76.33333333333333, 53.666666666666664, 42.333333333333336, 39.666666666666664, 53.0, 45.333333333333336, 59.333333333333336, 68.0, 58.0, 49.333333333333336, 41.333333333333336]\n",
            "NumPy Moving Average: [67.33333333 51.         34.66666667 20.66666667 13.         30.66666667\n",
            " 57.         76.33333333 53.66666667 42.33333333 39.66666667 53.\n",
            " 45.33333333 59.33333333 68.         58.         49.33333333 41.33333333]\n",
            "\n",
            "======== 8. Outlier Detection (IQR method) ========\n",
            "Data: [1, 2, 3, 4, 5, 6, 7, 8, 9, 10, 11, 12, 13, 14, 15, 16, 17, 18, 19, 20, 21, 22, 23, 24, 25, 300, 400]\n",
            "Outliers: [300, 400]\n"
          ]
        }
      ],
      "source": [
        "import numpy as np\n",
        "import random\n",
        "\n",
        "print(\"======== 1. Manual vs NumPy Mean ========\")\n",
        "ages = [18, 21, 20, 19, 22, 23, 20, 21, 22, 19]\n",
        "manual_mean = sum(ages) / len(ages)\n",
        "numpy_mean = np.mean(ages)\n",
        "print(\"Manual Mean:\", manual_mean)\n",
        "print(\"NumPy Mean:\", numpy_mean)\n",
        "\n",
        "print(\"\\n======== 2. Median Without Sorting Function ========\")\n",
        "data = [random.randint(10, 50) for _ in range(15)]\n",
        "sorted_data = sorted(data)\n",
        "n = len(sorted_data)\n",
        "if n % 2 == 1:\n",
        "    manual_median = sorted_data[n // 2]\n",
        "else:\n",
        "    manual_median = (sorted_data[n // 2 - 1] + sorted_data[n // 2]) / 2\n",
        "numpy_median = np.median(data)\n",
        "print(\"Data:\", data)\n",
        "print(\"Manual Median:\", manual_median)\n",
        "print(\"NumPy Median:\", numpy_median)\n",
        "\n",
        "print(\"\\n======== 3. Range and Data Spread ========\")\n",
        "manual_min = min(data)\n",
        "manual_max = max(data)\n",
        "manual_range = manual_max - manual_min\n",
        "numpy_min = np.min(data)\n",
        "numpy_max = np.max(data)\n",
        "numpy_range = numpy_max - numpy_min\n",
        "print(\"Manual Min:\", manual_min, \"| NumPy Min:\", numpy_min)\n",
        "print(\"Manual Max:\", manual_max, \"| NumPy Max:\", numpy_max)\n",
        "print(\"Manual Range:\", manual_range, \"| NumPy Range:\", numpy_range)\n",
        "\n",
        "print(\"\\n======== 4. Variance & Standard Deviation ========\")\n",
        "data_var = [5, 7, 3, 7, 9, 10, 15, 7]\n",
        "mean_val = sum(data_var) / len(data_var)\n",
        "manual_var = sum((x - mean_val) ** 2 for x in data_var) / len(data_var)\n",
        "manual_std = manual_var ** 0.5\n",
        "numpy_var = np.var(data_var)\n",
        "numpy_std = np.std(data_var)\n",
        "print(\"Manual Variance:\", manual_var, \"| NumPy Variance:\", numpy_var)\n",
        "print(\"Manual Std Dev:\", manual_std, \"| NumPy Std Dev:\", numpy_std)\n",
        "\n",
        "print(\"\\n======== 5. Quartiles & IQR ========\")\n",
        "dataset = [7, 15, 36, 39, 40, 41, 42, 43, 47, 49]\n",
        "q1 = np.percentile(dataset, 25)\n",
        "q2 = np.percentile(dataset, 50)\n",
        "q3 = np.percentile(dataset, 75)\n",
        "iqr = q3 - q1\n",
        "print(\"Q1:\", q1)\n",
        "print(\"Q2 (Median):\", q2)\n",
        "print(\"Q3:\", q3)\n",
        "print(\"IQR:\", iqr)\n",
        "\n",
        "print(\"\\n======== 6. Z-Score Normalization ========\")\n",
        "def z_score_normalization(lst):\n",
        "    mean_val = sum(lst) / len(lst)\n",
        "    std_val = (sum((x - mean_val) ** 2 for x in lst) / len(lst)) ** 0.5\n",
        "    return [(x - mean_val) / std_val for x in lst]\n",
        "\n",
        "numbers = [10, 12, 23, 23, 16, 23, 21, 16]\n",
        "z_scores = z_score_normalization(numbers)\n",
        "print(\"Numbers:\", numbers)\n",
        "print(\"Z-Scores:\", z_scores)\n",
        "\n",
        "print(\"\\n======== 7. Moving Average ========\")\n",
        "data_mov = [random.randint(1, 100) for _ in range(20)]\n",
        "window_size = 3\n",
        "manual_moving_avg = [\n",
        "    sum(data_mov[i:i+window_size]) / window_size\n",
        "    for i in range(len(data_mov) - window_size + 1)\n",
        "]\n",
        "numpy_moving_avg = np.convolve(data_mov, np.ones(window_size)/window_size, mode='valid')\n",
        "print(\"Data:\", data_mov)\n",
        "print(\"Manual Moving Average:\", manual_moving_avg)\n",
        "print(\"NumPy Moving Average:\", numpy_moving_avg)\n",
        "\n",
        "print(\"\\n======== 8. Outlier Detection (IQR method) ========\")\n",
        "data_outliers = list(range(1, 26)) + [300, 400]\n",
        "q1 = np.percentile(data_outliers, 25)\n",
        "q3 = np.percentile(data_outliers, 75)\n",
        "iqr = q3 - q1\n",
        "lower_bound = q1 - 1.5 * iqr\n",
        "upper_bound = q3 + 1.5 * iqr\n",
        "outliers = [x for x in data_outliers if x < lower_bound or x > upper_bound]\n",
        "print(\"Data:\", data_outliers)\n",
        "print(\"Outliers:\", outliers)\n"
      ]
    },
    {
      "cell_type": "code",
      "source": [],
      "metadata": {
        "id": "Rm3zCZnLW6yu"
      },
      "execution_count": null,
      "outputs": []
    }
  ]
}